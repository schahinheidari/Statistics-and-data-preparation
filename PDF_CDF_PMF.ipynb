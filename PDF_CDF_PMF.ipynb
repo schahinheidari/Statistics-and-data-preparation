{
 "cells": [
  {
   "cell_type": "markdown",
   "id": "68108c0c",
   "metadata": {},
   "source": [
    "### تفاوت دیتای گسسته و پیوسته : توزیع نرمال یک دیتای پیوسته است یا یونیفرم ولی توزیع هایی مثل برنولی یا باینومیال یا پواسون گسسته هستند\n",
    "\n",
    "\n",
    "#### `probability density function` = PDF  ==>     `تابع توزیع احتمالی`\n",
    "#### `cumulative density function` = CDF ==>    `تابع توزیع تجمعی`\n",
    "#### `probability mass function` = PMF  ==> `برای دیتاهای گسسته استفاده میشود یا تابع توده احتمالی`"
   ]
  },
  {
   "cell_type": "code",
   "execution_count": 2,
   "id": "9f34eb2e",
   "metadata": {},
   "outputs": [],
   "source": [
    "from scipy import stats"
   ]
  },
  {
   "cell_type": "code",
   "execution_count": 3,
   "id": "08090d02",
   "metadata": {},
   "outputs": [
    {
     "name": "stdout",
     "output_type": "stream",
     "text": [
      "<scipy.stats._distn_infrastructure.rv_frozen object at 0x7fc5d252afd0>\n"
     ]
    }
   ],
   "source": [
    "data = stats.binom(5000, 0.2)\n",
    "print(data)"
   ]
  },
  {
   "cell_type": "code",
   "execution_count": 4,
   "id": "a44ec730",
   "metadata": {},
   "outputs": [
    {
     "data": {
      "text/plain": [
       "0.014103505478012498"
      ]
     },
     "execution_count": 4,
     "metadata": {},
     "output_type": "execute_result"
    }
   ],
   "source": [
    "data.pmf(1000)"
   ]
  },
  {
   "cell_type": "code",
   "execution_count": 7,
   "id": "98e68297",
   "metadata": {},
   "outputs": [
    {
     "name": "stdout",
     "output_type": "stream",
     "text": [
      "1.0226489650185727e-122\n"
     ]
    }
   ],
   "source": [
    "c = 0\n",
    "for i in range(0, 400):\n",
    "    c += data.pmf(i)\n",
    "print(c)"
   ]
  },
  {
   "cell_type": "code",
   "execution_count": 8,
   "id": "a03e1f03",
   "metadata": {},
   "outputs": [
    {
     "name": "stdout",
     "output_type": "stream",
     "text": [
      "0.4943582593585362\n"
     ]
    }
   ],
   "source": [
    "c = 0\n",
    "for i in range(600, 1000):\n",
    "    c += data.pmf(i)\n",
    "print(c)"
   ]
  },
  {
   "cell_type": "code",
   "execution_count": 9,
   "id": "f603a91b",
   "metadata": {},
   "outputs": [
    {
     "name": "stdout",
     "output_type": "stream",
     "text": [
      "0.505641740641464\n"
     ]
    },
    {
     "name": "stderr",
     "output_type": "stream",
     "text": [
      "/home/shahin/.local/lib/python3.8/site-packages/scipy/stats/_discrete_distns.py:67: RuntimeWarning: divide by zero encountered in _binom_pdf\n",
      "  return _boost._binom_pdf(x, n, p)\n"
     ]
    }
   ],
   "source": [
    "c = 0\n",
    "for i in range(1000, 5000):\n",
    "    c += data.pmf(i)\n",
    "print(c)"
   ]
  },
  {
   "cell_type": "code",
   "execution_count": 23,
   "id": "6efaf255",
   "metadata": {},
   "outputs": [
    {
     "name": "stdout",
     "output_type": "stream",
     "text": [
      "0.9999999999999999\n"
     ]
    }
   ],
   "source": [
    "c = 0\n",
    "for i in range(0, 1234):\n",
    "    c += data.pmf(i)\n",
    "print(c)"
   ]
  },
  {
   "cell_type": "code",
   "execution_count": 22,
   "id": "79c674bc",
   "metadata": {},
   "outputs": [
    {
     "name": "stdout",
     "output_type": "stream",
     "text": [
      "1.0\n"
     ]
    }
   ],
   "source": [
    "c = 0\n",
    "for i in range(0, 1235):\n",
    "    c += data.pmf(i)\n",
    "print(c)"
   ]
  },
  {
   "cell_type": "code",
   "execution_count": 24,
   "id": "ca583917",
   "metadata": {},
   "outputs": [
    {
     "data": {
      "text/plain": [
       "0.9999999999999997"
      ]
     },
     "execution_count": 24,
     "metadata": {},
     "output_type": "execute_result"
    }
   ],
   "source": [
    "data.cdf(1234)"
   ]
  },
  {
   "cell_type": "code",
   "execution_count": 25,
   "id": "f9aaa64a",
   "metadata": {},
   "outputs": [
    {
     "data": {
      "text/plain": [
       "0.9999999999999998"
      ]
     },
     "execution_count": 25,
     "metadata": {},
     "output_type": "execute_result"
    }
   ],
   "source": [
    "data.cdf(1235)\n",
    "# با این احتمال فردا این تعداد بیمار خواهم داشت"
   ]
  },
  {
   "cell_type": "code",
   "execution_count": 26,
   "id": "3e6240bf",
   "metadata": {},
   "outputs": [],
   "source": [
    "# بهطور میانگین 160 نفر نیرو دارد و از توزیع پوآسون استفاده میکنیم \n",
    "# تعداد خرابی های سرور ازاین توزیع استفاده میشود\n",
    "# تعداد نیروهای کار نیز از این توزیع استفاده میشود اکثرا\n",
    "data = stats.poisson(160) "
   ]
  },
  {
   "cell_type": "code",
   "execution_count": 27,
   "id": "15cfdf2b",
   "metadata": {},
   "outputs": [
    {
     "data": {
      "text/plain": [
       "0.00027541702741491487"
      ]
     },
     "execution_count": 27,
     "metadata": {},
     "output_type": "execute_result"
    }
   ],
   "source": [
    "# احتمال اینکه در یک روز دقیقا دویست نفر بانک مشتری داشته باشد\n",
    "data.pmf(200)"
   ]
  },
  {
   "cell_type": "code",
   "execution_count": 28,
   "id": "18274d86",
   "metadata": {},
   "outputs": [
    {
     "data": {
      "text/plain": [
       "0.9990057242993592"
      ]
     },
     "execution_count": 28,
     "metadata": {},
     "output_type": "execute_result"
    }
   ],
   "source": [
    "# احتمال اینکه در یک روز از دویست نفر به پایین بانک مشتری داشته باشد\n",
    "data.cdf(200)"
   ]
  },
  {
   "cell_type": "code",
   "execution_count": 29,
   "id": "b33ea3f8",
   "metadata": {},
   "outputs": [
    {
     "data": {
      "text/plain": [
       "0.000994275700640812"
      ]
     },
     "execution_count": 29,
     "metadata": {},
     "output_type": "execute_result"
    }
   ],
   "source": [
    "# احتمال اینکه در یک روز از دویست نفر به بالا بانک مشتری داشته باشد\n",
    "1 - data.cdf(200)"
   ]
  },
  {
   "cell_type": "code",
   "execution_count": 30,
   "id": "c037760e",
   "metadata": {},
   "outputs": [
    {
     "data": {
      "text/plain": [
       "0.22803229416925638"
      ]
     },
     "execution_count": 30,
     "metadata": {},
     "output_type": "execute_result"
    }
   ],
   "source": [
    "# احتمال اینکه در یک روز از 150 نفر به پایین بانک مشتری داشته باشد\n",
    "data.cdf(150)"
   ]
  },
  {
   "cell_type": "code",
   "execution_count": 31,
   "id": "bc8e1a56",
   "metadata": {},
   "outputs": [],
   "source": [
    "data = stats.norm(2, 1) #average=2, std=1  انحراف استاندارد"
   ]
  },
  {
   "cell_type": "code",
   "execution_count": 32,
   "id": "57fb9798",
   "metadata": {},
   "outputs": [
    {
     "data": {
      "text/plain": [
       "0.24197072451914337"
      ]
     },
     "execution_count": 32,
     "metadata": {},
     "output_type": "execute_result"
    }
   ],
   "source": [
    "# احتمال اینکه دیتای ما نزدیک یک باشد\n",
    "data.pdf(1)"
   ]
  },
  {
   "cell_type": "code",
   "execution_count": 33,
   "id": "deddac1c",
   "metadata": {},
   "outputs": [
    {
     "data": {
      "text/plain": [
       "0.3989422804014327"
      ]
     },
     "execution_count": 33,
     "metadata": {},
     "output_type": "execute_result"
    }
   ],
   "source": [
    "# احتمال اینکه دیتای ما نزدیک دو باشد\n",
    "data.pdf(2)"
   ]
  },
  {
   "cell_type": "code",
   "execution_count": 34,
   "id": "18dae2fd",
   "metadata": {},
   "outputs": [
    {
     "data": {
      "text/plain": [
       "0.5"
      ]
     },
     "execution_count": 34,
     "metadata": {},
     "output_type": "execute_result"
    }
   ],
   "source": [
    "# احتمال اینکه دیتا کمتر از دو باشد\n",
    "data.cdf(2)"
   ]
  },
  {
   "cell_type": "code",
   "execution_count": 35,
   "id": "f314063b",
   "metadata": {},
   "outputs": [
    {
     "data": {
      "text/plain": [
       "0.5"
      ]
     },
     "execution_count": 35,
     "metadata": {},
     "output_type": "execute_result"
    }
   ],
   "source": [
    "# احتمال اینکه دیتا بیشتر از دو باشد\n",
    "1 - data.cdf(2)"
   ]
  },
  {
   "cell_type": "code",
   "execution_count": 36,
   "id": "29b08dcb",
   "metadata": {},
   "outputs": [
    {
     "data": {
      "text/plain": [
       "0.2417303374571288"
      ]
     },
     "execution_count": 36,
     "metadata": {},
     "output_type": "execute_result"
    }
   ],
   "source": [
    "# احتمال اینکه دیتا بین 2.5 تا 3.5 باشد\n",
    "data.cdf(3.5) - data.cdf(2.5)"
   ]
  },
  {
   "cell_type": "code",
   "execution_count": null,
   "id": "c7b969ee",
   "metadata": {},
   "outputs": [],
   "source": []
  }
 ],
 "metadata": {
  "kernelspec": {
   "display_name": "Python 3 (ipykernel)",
   "language": "python",
   "name": "python3"
  },
  "language_info": {
   "codemirror_mode": {
    "name": "ipython",
    "version": 3
   },
   "file_extension": ".py",
   "mimetype": "text/x-python",
   "name": "python",
   "nbconvert_exporter": "python",
   "pygments_lexer": "ipython3",
   "version": "3.8.10"
  }
 },
 "nbformat": 4,
 "nbformat_minor": 5
}
