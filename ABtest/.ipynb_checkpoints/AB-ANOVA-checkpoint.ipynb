{
 "cells": [
  {
   "cell_type": "code",
   "execution_count": 63,
   "id": "ee3b4142",
   "metadata": {},
   "outputs": [],
   "source": [
    "import numpy as np\n",
    "import pandas as pd\n",
    "from statsmodels.formula.api import ols\n",
    "import statsmodels.api as sm\n",
    "import scipy as st\n",
    "import matplotlib.pyplot as plt"
   ]
  },
  {
   "cell_type": "code",
   "execution_count": 38,
   "id": "41e286bd",
   "metadata": {},
   "outputs": [
    {
     "data": {
      "text/html": [
       "<div>\n",
       "<style scoped>\n",
       "    .dataframe tbody tr th:only-of-type {\n",
       "        vertical-align: middle;\n",
       "    }\n",
       "\n",
       "    .dataframe tbody tr th {\n",
       "        vertical-align: top;\n",
       "    }\n",
       "\n",
       "    .dataframe thead th {\n",
       "        text-align: right;\n",
       "    }\n",
       "</style>\n",
       "<table border=\"1\" class=\"dataframe\">\n",
       "  <thead>\n",
       "    <tr style=\"text-align: right;\">\n",
       "      <th></th>\n",
       "      <th>Campain</th>\n",
       "      <th>Sell</th>\n",
       "    </tr>\n",
       "  </thead>\n",
       "  <tbody>\n",
       "    <tr>\n",
       "      <th>0</th>\n",
       "      <td>A</td>\n",
       "      <td>12.6</td>\n",
       "    </tr>\n",
       "    <tr>\n",
       "      <th>1</th>\n",
       "      <td>A</td>\n",
       "      <td>12.0</td>\n",
       "    </tr>\n",
       "    <tr>\n",
       "      <th>2</th>\n",
       "      <td>A</td>\n",
       "      <td>11.8</td>\n",
       "    </tr>\n",
       "    <tr>\n",
       "      <th>3</th>\n",
       "      <td>A</td>\n",
       "      <td>11.9</td>\n",
       "    </tr>\n",
       "    <tr>\n",
       "      <th>4</th>\n",
       "      <td>A</td>\n",
       "      <td>13.0</td>\n",
       "    </tr>\n",
       "    <tr>\n",
       "      <th>5</th>\n",
       "      <td>A</td>\n",
       "      <td>12.5</td>\n",
       "    </tr>\n",
       "    <tr>\n",
       "      <th>6</th>\n",
       "      <td>A</td>\n",
       "      <td>14.0</td>\n",
       "    </tr>\n",
       "    <tr>\n",
       "      <th>7</th>\n",
       "      <td>B</td>\n",
       "      <td>10.0</td>\n",
       "    </tr>\n",
       "    <tr>\n",
       "      <th>8</th>\n",
       "      <td>B</td>\n",
       "      <td>10.2</td>\n",
       "    </tr>\n",
       "    <tr>\n",
       "      <th>9</th>\n",
       "      <td>B</td>\n",
       "      <td>10.0</td>\n",
       "    </tr>\n",
       "    <tr>\n",
       "      <th>10</th>\n",
       "      <td>B</td>\n",
       "      <td>12.0</td>\n",
       "    </tr>\n",
       "    <tr>\n",
       "      <th>11</th>\n",
       "      <td>B</td>\n",
       "      <td>14.0</td>\n",
       "    </tr>\n",
       "    <tr>\n",
       "      <th>12</th>\n",
       "      <td>B</td>\n",
       "      <td>13.0</td>\n",
       "    </tr>\n",
       "    <tr>\n",
       "      <th>13</th>\n",
       "      <td>C</td>\n",
       "      <td>10.1</td>\n",
       "    </tr>\n",
       "    <tr>\n",
       "      <th>14</th>\n",
       "      <td>C</td>\n",
       "      <td>13.0</td>\n",
       "    </tr>\n",
       "    <tr>\n",
       "      <th>15</th>\n",
       "      <td>C</td>\n",
       "      <td>13.4</td>\n",
       "    </tr>\n",
       "    <tr>\n",
       "      <th>16</th>\n",
       "      <td>C</td>\n",
       "      <td>12.9</td>\n",
       "    </tr>\n",
       "    <tr>\n",
       "      <th>17</th>\n",
       "      <td>C</td>\n",
       "      <td>8.9</td>\n",
       "    </tr>\n",
       "    <tr>\n",
       "      <th>18</th>\n",
       "      <td>C</td>\n",
       "      <td>10.7</td>\n",
       "    </tr>\n",
       "    <tr>\n",
       "      <th>19</th>\n",
       "      <td>C</td>\n",
       "      <td>13.6</td>\n",
       "    </tr>\n",
       "    <tr>\n",
       "      <th>20</th>\n",
       "      <td>C</td>\n",
       "      <td>12.0</td>\n",
       "    </tr>\n",
       "  </tbody>\n",
       "</table>\n",
       "</div>"
      ],
      "text/plain": [
       "   Campain  Sell\n",
       "0        A  12.6\n",
       "1        A  12.0\n",
       "2        A  11.8\n",
       "3        A  11.9\n",
       "4        A  13.0\n",
       "5        A  12.5\n",
       "6        A  14.0\n",
       "7        B  10.0\n",
       "8        B  10.2\n",
       "9        B  10.0\n",
       "10       B  12.0\n",
       "11       B  14.0\n",
       "12       B  13.0\n",
       "13       C  10.1\n",
       "14       C  13.0\n",
       "15       C  13.4\n",
       "16       C  12.9\n",
       "17       C   8.9\n",
       "18       C  10.7\n",
       "19       C  13.6\n",
       "20       C  12.0"
      ]
     },
     "execution_count": 38,
     "metadata": {},
     "output_type": "execute_result"
    }
   ],
   "source": [
    "data = pd.read_csv('3campain.csv')\n",
    "data"
   ]
  },
  {
   "cell_type": "code",
   "execution_count": 39,
   "id": "2ef3a04f",
   "metadata": {},
   "outputs": [
    {
     "data": {
      "text/plain": [
       "11.980952380952381"
      ]
     },
     "execution_count": 39,
     "metadata": {},
     "output_type": "execute_result"
    }
   ],
   "source": [
    "data['Sell'].mean()"
   ]
  },
  {
   "cell_type": "code",
   "execution_count": 40,
   "id": "76c3882a",
   "metadata": {},
   "outputs": [
    {
     "data": {
      "text/html": [
       "<div>\n",
       "<style scoped>\n",
       "    .dataframe tbody tr th:only-of-type {\n",
       "        vertical-align: middle;\n",
       "    }\n",
       "\n",
       "    .dataframe tbody tr th {\n",
       "        vertical-align: top;\n",
       "    }\n",
       "\n",
       "    .dataframe thead th {\n",
       "        text-align: right;\n",
       "    }\n",
       "</style>\n",
       "<table border=\"1\" class=\"dataframe\">\n",
       "  <thead>\n",
       "    <tr style=\"text-align: right;\">\n",
       "      <th></th>\n",
       "      <th>Sell</th>\n",
       "    </tr>\n",
       "    <tr>\n",
       "      <th>Campain</th>\n",
       "      <th></th>\n",
       "    </tr>\n",
       "  </thead>\n",
       "  <tbody>\n",
       "    <tr>\n",
       "      <th>A</th>\n",
       "      <td>12.542857</td>\n",
       "    </tr>\n",
       "    <tr>\n",
       "      <th>B</th>\n",
       "      <td>11.533333</td>\n",
       "    </tr>\n",
       "    <tr>\n",
       "      <th>C</th>\n",
       "      <td>11.825000</td>\n",
       "    </tr>\n",
       "  </tbody>\n",
       "</table>\n",
       "</div>"
      ],
      "text/plain": [
       "              Sell\n",
       "Campain           \n",
       "A        12.542857\n",
       "B        11.533333\n",
       "C        11.825000"
      ]
     },
     "execution_count": 40,
     "metadata": {},
     "output_type": "execute_result"
    }
   ],
   "source": [
    "data.groupby('Campain').mean()"
   ]
  },
  {
   "cell_type": "code",
   "execution_count": 41,
   "id": "fec15d22",
   "metadata": {},
   "outputs": [],
   "source": [
    "# ~\n",
    "res = ols('Sell ~ Campain', data=data).fit()"
   ]
  },
  {
   "cell_type": "code",
   "execution_count": 42,
   "id": "980023ff",
   "metadata": {},
   "outputs": [
    {
     "data": {
      "text/html": [
       "<div>\n",
       "<style scoped>\n",
       "    .dataframe tbody tr th:only-of-type {\n",
       "        vertical-align: middle;\n",
       "    }\n",
       "\n",
       "    .dataframe tbody tr th {\n",
       "        vertical-align: top;\n",
       "    }\n",
       "\n",
       "    .dataframe thead th {\n",
       "        text-align: right;\n",
       "    }\n",
       "</style>\n",
       "<table border=\"1\" class=\"dataframe\">\n",
       "  <thead>\n",
       "    <tr style=\"text-align: right;\">\n",
       "      <th></th>\n",
       "      <th>df</th>\n",
       "      <th>sum_sq</th>\n",
       "      <th>mean_sq</th>\n",
       "      <th>F</th>\n",
       "      <th>PR(&gt;F)</th>\n",
       "    </tr>\n",
       "  </thead>\n",
       "  <tbody>\n",
       "    <tr>\n",
       "      <th>Campain</th>\n",
       "      <td>2.0</td>\n",
       "      <td>3.606905</td>\n",
       "      <td>1.803452</td>\n",
       "      <td>0.821297</td>\n",
       "      <td>0.455683</td>\n",
       "    </tr>\n",
       "    <tr>\n",
       "      <th>Residual</th>\n",
       "      <td>18.0</td>\n",
       "      <td>39.525476</td>\n",
       "      <td>2.195860</td>\n",
       "      <td>NaN</td>\n",
       "      <td>NaN</td>\n",
       "    </tr>\n",
       "  </tbody>\n",
       "</table>\n",
       "</div>"
      ],
      "text/plain": [
       "            df     sum_sq   mean_sq         F    PR(>F)\n",
       "Campain    2.0   3.606905  1.803452  0.821297  0.455683\n",
       "Residual  18.0  39.525476  2.195860       NaN       NaN"
      ]
     },
     "execution_count": 42,
     "metadata": {},
     "output_type": "execute_result"
    }
   ],
   "source": [
    "# https://www.statsmodels.org/dev/generated/statsmodels.stats.anova.anova_lm.html\n",
    "sm.stats.anova_lm(res)\n",
    "# df = degree of freedom (3-1)\n",
    "# Residual = 21 - 3 => 18\n",
    "# f => fTest\n",
    "# PR = pValue\n",
    "# sum_sq = (sell - data['Sell'].mean()) ** 2 "
   ]
  },
  {
   "cell_type": "code",
   "execution_count": 43,
   "id": "f28dec87",
   "metadata": {},
   "outputs": [],
   "source": [
    "data['Mean'] = data['Sell'].mean()"
   ]
  },
  {
   "cell_type": "code",
   "execution_count": 44,
   "id": "f08b6b20",
   "metadata": {},
   "outputs": [
    {
     "data": {
      "text/html": [
       "<div>\n",
       "<style scoped>\n",
       "    .dataframe tbody tr th:only-of-type {\n",
       "        vertical-align: middle;\n",
       "    }\n",
       "\n",
       "    .dataframe tbody tr th {\n",
       "        vertical-align: top;\n",
       "    }\n",
       "\n",
       "    .dataframe thead th {\n",
       "        text-align: right;\n",
       "    }\n",
       "</style>\n",
       "<table border=\"1\" class=\"dataframe\">\n",
       "  <thead>\n",
       "    <tr style=\"text-align: right;\">\n",
       "      <th></th>\n",
       "      <th>Campain</th>\n",
       "      <th>Sell</th>\n",
       "      <th>Mean</th>\n",
       "    </tr>\n",
       "  </thead>\n",
       "  <tbody>\n",
       "    <tr>\n",
       "      <th>0</th>\n",
       "      <td>A</td>\n",
       "      <td>12.6</td>\n",
       "      <td>11.980952</td>\n",
       "    </tr>\n",
       "    <tr>\n",
       "      <th>1</th>\n",
       "      <td>A</td>\n",
       "      <td>12.0</td>\n",
       "      <td>11.980952</td>\n",
       "    </tr>\n",
       "    <tr>\n",
       "      <th>2</th>\n",
       "      <td>A</td>\n",
       "      <td>11.8</td>\n",
       "      <td>11.980952</td>\n",
       "    </tr>\n",
       "    <tr>\n",
       "      <th>3</th>\n",
       "      <td>A</td>\n",
       "      <td>11.9</td>\n",
       "      <td>11.980952</td>\n",
       "    </tr>\n",
       "    <tr>\n",
       "      <th>4</th>\n",
       "      <td>A</td>\n",
       "      <td>13.0</td>\n",
       "      <td>11.980952</td>\n",
       "    </tr>\n",
       "    <tr>\n",
       "      <th>5</th>\n",
       "      <td>A</td>\n",
       "      <td>12.5</td>\n",
       "      <td>11.980952</td>\n",
       "    </tr>\n",
       "    <tr>\n",
       "      <th>6</th>\n",
       "      <td>A</td>\n",
       "      <td>14.0</td>\n",
       "      <td>11.980952</td>\n",
       "    </tr>\n",
       "    <tr>\n",
       "      <th>7</th>\n",
       "      <td>B</td>\n",
       "      <td>10.0</td>\n",
       "      <td>11.980952</td>\n",
       "    </tr>\n",
       "    <tr>\n",
       "      <th>8</th>\n",
       "      <td>B</td>\n",
       "      <td>10.2</td>\n",
       "      <td>11.980952</td>\n",
       "    </tr>\n",
       "    <tr>\n",
       "      <th>9</th>\n",
       "      <td>B</td>\n",
       "      <td>10.0</td>\n",
       "      <td>11.980952</td>\n",
       "    </tr>\n",
       "    <tr>\n",
       "      <th>10</th>\n",
       "      <td>B</td>\n",
       "      <td>12.0</td>\n",
       "      <td>11.980952</td>\n",
       "    </tr>\n",
       "    <tr>\n",
       "      <th>11</th>\n",
       "      <td>B</td>\n",
       "      <td>14.0</td>\n",
       "      <td>11.980952</td>\n",
       "    </tr>\n",
       "    <tr>\n",
       "      <th>12</th>\n",
       "      <td>B</td>\n",
       "      <td>13.0</td>\n",
       "      <td>11.980952</td>\n",
       "    </tr>\n",
       "    <tr>\n",
       "      <th>13</th>\n",
       "      <td>C</td>\n",
       "      <td>10.1</td>\n",
       "      <td>11.980952</td>\n",
       "    </tr>\n",
       "    <tr>\n",
       "      <th>14</th>\n",
       "      <td>C</td>\n",
       "      <td>13.0</td>\n",
       "      <td>11.980952</td>\n",
       "    </tr>\n",
       "    <tr>\n",
       "      <th>15</th>\n",
       "      <td>C</td>\n",
       "      <td>13.4</td>\n",
       "      <td>11.980952</td>\n",
       "    </tr>\n",
       "    <tr>\n",
       "      <th>16</th>\n",
       "      <td>C</td>\n",
       "      <td>12.9</td>\n",
       "      <td>11.980952</td>\n",
       "    </tr>\n",
       "    <tr>\n",
       "      <th>17</th>\n",
       "      <td>C</td>\n",
       "      <td>8.9</td>\n",
       "      <td>11.980952</td>\n",
       "    </tr>\n",
       "    <tr>\n",
       "      <th>18</th>\n",
       "      <td>C</td>\n",
       "      <td>10.7</td>\n",
       "      <td>11.980952</td>\n",
       "    </tr>\n",
       "    <tr>\n",
       "      <th>19</th>\n",
       "      <td>C</td>\n",
       "      <td>13.6</td>\n",
       "      <td>11.980952</td>\n",
       "    </tr>\n",
       "    <tr>\n",
       "      <th>20</th>\n",
       "      <td>C</td>\n",
       "      <td>12.0</td>\n",
       "      <td>11.980952</td>\n",
       "    </tr>\n",
       "  </tbody>\n",
       "</table>\n",
       "</div>"
      ],
      "text/plain": [
       "   Campain  Sell       Mean\n",
       "0        A  12.6  11.980952\n",
       "1        A  12.0  11.980952\n",
       "2        A  11.8  11.980952\n",
       "3        A  11.9  11.980952\n",
       "4        A  13.0  11.980952\n",
       "5        A  12.5  11.980952\n",
       "6        A  14.0  11.980952\n",
       "7        B  10.0  11.980952\n",
       "8        B  10.2  11.980952\n",
       "9        B  10.0  11.980952\n",
       "10       B  12.0  11.980952\n",
       "11       B  14.0  11.980952\n",
       "12       B  13.0  11.980952\n",
       "13       C  10.1  11.980952\n",
       "14       C  13.0  11.980952\n",
       "15       C  13.4  11.980952\n",
       "16       C  12.9  11.980952\n",
       "17       C   8.9  11.980952\n",
       "18       C  10.7  11.980952\n",
       "19       C  13.6  11.980952\n",
       "20       C  12.0  11.980952"
      ]
     },
     "execution_count": 44,
     "metadata": {},
     "output_type": "execute_result"
    }
   ],
   "source": [
    "data"
   ]
  },
  {
   "cell_type": "code",
   "execution_count": 45,
   "id": "a799f675",
   "metadata": {},
   "outputs": [
    {
     "data": {
      "text/plain": [
       "43.132380952380956"
      ]
     },
     "execution_count": 45,
     "metadata": {},
     "output_type": "execute_result"
    }
   ],
   "source": [
    "sum_sq = sum((data['Sell'] - data['Mean']) ** 2)\n",
    "sum_sq"
   ]
  },
  {
   "cell_type": "code",
   "execution_count": 46,
   "id": "09253a40",
   "metadata": {},
   "outputs": [
    {
     "data": {
      "text/plain": [
       "Campain\n",
       "A    12.542857\n",
       "B    11.533333\n",
       "C    11.825000\n",
       "Name: Sell, dtype: float64"
      ]
     },
     "execution_count": 46,
     "metadata": {},
     "output_type": "execute_result"
    }
   ],
   "source": [
    "gMean = data.groupby('Campain').mean()['Sell']\n",
    "gMean # series"
   ]
  },
  {
   "cell_type": "code",
   "execution_count": 47,
   "id": "5d4ac4c2",
   "metadata": {},
   "outputs": [
    {
     "data": {
      "text/html": [
       "<div>\n",
       "<style scoped>\n",
       "    .dataframe tbody tr th:only-of-type {\n",
       "        vertical-align: middle;\n",
       "    }\n",
       "\n",
       "    .dataframe tbody tr th {\n",
       "        vertical-align: top;\n",
       "    }\n",
       "\n",
       "    .dataframe thead th {\n",
       "        text-align: right;\n",
       "    }\n",
       "</style>\n",
       "<table border=\"1\" class=\"dataframe\">\n",
       "  <thead>\n",
       "    <tr style=\"text-align: right;\">\n",
       "      <th></th>\n",
       "      <th>Sell</th>\n",
       "    </tr>\n",
       "    <tr>\n",
       "      <th>Campain</th>\n",
       "      <th></th>\n",
       "    </tr>\n",
       "  </thead>\n",
       "  <tbody>\n",
       "    <tr>\n",
       "      <th>A</th>\n",
       "      <td>12.542857</td>\n",
       "    </tr>\n",
       "    <tr>\n",
       "      <th>B</th>\n",
       "      <td>11.533333</td>\n",
       "    </tr>\n",
       "    <tr>\n",
       "      <th>C</th>\n",
       "      <td>11.825000</td>\n",
       "    </tr>\n",
       "  </tbody>\n",
       "</table>\n",
       "</div>"
      ],
      "text/plain": [
       "              Sell\n",
       "Campain           \n",
       "A        12.542857\n",
       "B        11.533333\n",
       "C        11.825000"
      ]
     },
     "execution_count": 47,
     "metadata": {},
     "output_type": "execute_result"
    }
   ],
   "source": [
    "gMean = data.groupby('Campain').mean()[['Sell']]\n",
    "gMean # dataFrame"
   ]
  },
  {
   "cell_type": "code",
   "execution_count": 48,
   "id": "0a398cb3",
   "metadata": {},
   "outputs": [
    {
     "data": {
      "text/html": [
       "<div>\n",
       "<style scoped>\n",
       "    .dataframe tbody tr th:only-of-type {\n",
       "        vertical-align: middle;\n",
       "    }\n",
       "\n",
       "    .dataframe tbody tr th {\n",
       "        vertical-align: top;\n",
       "    }\n",
       "\n",
       "    .dataframe thead th {\n",
       "        text-align: right;\n",
       "    }\n",
       "</style>\n",
       "<table border=\"1\" class=\"dataframe\">\n",
       "  <thead>\n",
       "    <tr style=\"text-align: right;\">\n",
       "      <th></th>\n",
       "      <th>gMean</th>\n",
       "    </tr>\n",
       "    <tr>\n",
       "      <th>Campain</th>\n",
       "      <th></th>\n",
       "    </tr>\n",
       "  </thead>\n",
       "  <tbody>\n",
       "    <tr>\n",
       "      <th>A</th>\n",
       "      <td>12.542857</td>\n",
       "    </tr>\n",
       "    <tr>\n",
       "      <th>B</th>\n",
       "      <td>11.533333</td>\n",
       "    </tr>\n",
       "    <tr>\n",
       "      <th>C</th>\n",
       "      <td>11.825000</td>\n",
       "    </tr>\n",
       "  </tbody>\n",
       "</table>\n",
       "</div>"
      ],
      "text/plain": [
       "             gMean\n",
       "Campain           \n",
       "A        12.542857\n",
       "B        11.533333\n",
       "C        11.825000"
      ]
     },
     "execution_count": 48,
     "metadata": {},
     "output_type": "execute_result"
    }
   ],
   "source": [
    "gMean = gMean.rename(columns={'Sell': 'gMean'})\n",
    "gMean"
   ]
  },
  {
   "cell_type": "code",
   "execution_count": 49,
   "id": "f8f4666d",
   "metadata": {},
   "outputs": [
    {
     "data": {
      "text/html": [
       "<div>\n",
       "<style scoped>\n",
       "    .dataframe tbody tr th:only-of-type {\n",
       "        vertical-align: middle;\n",
       "    }\n",
       "\n",
       "    .dataframe tbody tr th {\n",
       "        vertical-align: top;\n",
       "    }\n",
       "\n",
       "    .dataframe thead th {\n",
       "        text-align: right;\n",
       "    }\n",
       "</style>\n",
       "<table border=\"1\" class=\"dataframe\">\n",
       "  <thead>\n",
       "    <tr style=\"text-align: right;\">\n",
       "      <th></th>\n",
       "      <th>Campain</th>\n",
       "      <th>Sell</th>\n",
       "      <th>Mean</th>\n",
       "      <th>gMean</th>\n",
       "    </tr>\n",
       "  </thead>\n",
       "  <tbody>\n",
       "    <tr>\n",
       "      <th>0</th>\n",
       "      <td>A</td>\n",
       "      <td>12.6</td>\n",
       "      <td>11.980952</td>\n",
       "      <td>12.542857</td>\n",
       "    </tr>\n",
       "    <tr>\n",
       "      <th>1</th>\n",
       "      <td>A</td>\n",
       "      <td>12.0</td>\n",
       "      <td>11.980952</td>\n",
       "      <td>12.542857</td>\n",
       "    </tr>\n",
       "    <tr>\n",
       "      <th>2</th>\n",
       "      <td>A</td>\n",
       "      <td>11.8</td>\n",
       "      <td>11.980952</td>\n",
       "      <td>12.542857</td>\n",
       "    </tr>\n",
       "    <tr>\n",
       "      <th>3</th>\n",
       "      <td>A</td>\n",
       "      <td>11.9</td>\n",
       "      <td>11.980952</td>\n",
       "      <td>12.542857</td>\n",
       "    </tr>\n",
       "    <tr>\n",
       "      <th>4</th>\n",
       "      <td>A</td>\n",
       "      <td>13.0</td>\n",
       "      <td>11.980952</td>\n",
       "      <td>12.542857</td>\n",
       "    </tr>\n",
       "    <tr>\n",
       "      <th>5</th>\n",
       "      <td>A</td>\n",
       "      <td>12.5</td>\n",
       "      <td>11.980952</td>\n",
       "      <td>12.542857</td>\n",
       "    </tr>\n",
       "    <tr>\n",
       "      <th>6</th>\n",
       "      <td>A</td>\n",
       "      <td>14.0</td>\n",
       "      <td>11.980952</td>\n",
       "      <td>12.542857</td>\n",
       "    </tr>\n",
       "    <tr>\n",
       "      <th>7</th>\n",
       "      <td>B</td>\n",
       "      <td>10.0</td>\n",
       "      <td>11.980952</td>\n",
       "      <td>11.533333</td>\n",
       "    </tr>\n",
       "    <tr>\n",
       "      <th>8</th>\n",
       "      <td>B</td>\n",
       "      <td>10.2</td>\n",
       "      <td>11.980952</td>\n",
       "      <td>11.533333</td>\n",
       "    </tr>\n",
       "    <tr>\n",
       "      <th>9</th>\n",
       "      <td>B</td>\n",
       "      <td>10.0</td>\n",
       "      <td>11.980952</td>\n",
       "      <td>11.533333</td>\n",
       "    </tr>\n",
       "    <tr>\n",
       "      <th>10</th>\n",
       "      <td>B</td>\n",
       "      <td>12.0</td>\n",
       "      <td>11.980952</td>\n",
       "      <td>11.533333</td>\n",
       "    </tr>\n",
       "    <tr>\n",
       "      <th>11</th>\n",
       "      <td>B</td>\n",
       "      <td>14.0</td>\n",
       "      <td>11.980952</td>\n",
       "      <td>11.533333</td>\n",
       "    </tr>\n",
       "    <tr>\n",
       "      <th>12</th>\n",
       "      <td>B</td>\n",
       "      <td>13.0</td>\n",
       "      <td>11.980952</td>\n",
       "      <td>11.533333</td>\n",
       "    </tr>\n",
       "    <tr>\n",
       "      <th>13</th>\n",
       "      <td>C</td>\n",
       "      <td>10.1</td>\n",
       "      <td>11.980952</td>\n",
       "      <td>11.825000</td>\n",
       "    </tr>\n",
       "    <tr>\n",
       "      <th>14</th>\n",
       "      <td>C</td>\n",
       "      <td>13.0</td>\n",
       "      <td>11.980952</td>\n",
       "      <td>11.825000</td>\n",
       "    </tr>\n",
       "    <tr>\n",
       "      <th>15</th>\n",
       "      <td>C</td>\n",
       "      <td>13.4</td>\n",
       "      <td>11.980952</td>\n",
       "      <td>11.825000</td>\n",
       "    </tr>\n",
       "    <tr>\n",
       "      <th>16</th>\n",
       "      <td>C</td>\n",
       "      <td>12.9</td>\n",
       "      <td>11.980952</td>\n",
       "      <td>11.825000</td>\n",
       "    </tr>\n",
       "    <tr>\n",
       "      <th>17</th>\n",
       "      <td>C</td>\n",
       "      <td>8.9</td>\n",
       "      <td>11.980952</td>\n",
       "      <td>11.825000</td>\n",
       "    </tr>\n",
       "    <tr>\n",
       "      <th>18</th>\n",
       "      <td>C</td>\n",
       "      <td>10.7</td>\n",
       "      <td>11.980952</td>\n",
       "      <td>11.825000</td>\n",
       "    </tr>\n",
       "    <tr>\n",
       "      <th>19</th>\n",
       "      <td>C</td>\n",
       "      <td>13.6</td>\n",
       "      <td>11.980952</td>\n",
       "      <td>11.825000</td>\n",
       "    </tr>\n",
       "    <tr>\n",
       "      <th>20</th>\n",
       "      <td>C</td>\n",
       "      <td>12.0</td>\n",
       "      <td>11.980952</td>\n",
       "      <td>11.825000</td>\n",
       "    </tr>\n",
       "  </tbody>\n",
       "</table>\n",
       "</div>"
      ],
      "text/plain": [
       "   Campain  Sell       Mean      gMean\n",
       "0        A  12.6  11.980952  12.542857\n",
       "1        A  12.0  11.980952  12.542857\n",
       "2        A  11.8  11.980952  12.542857\n",
       "3        A  11.9  11.980952  12.542857\n",
       "4        A  13.0  11.980952  12.542857\n",
       "5        A  12.5  11.980952  12.542857\n",
       "6        A  14.0  11.980952  12.542857\n",
       "7        B  10.0  11.980952  11.533333\n",
       "8        B  10.2  11.980952  11.533333\n",
       "9        B  10.0  11.980952  11.533333\n",
       "10       B  12.0  11.980952  11.533333\n",
       "11       B  14.0  11.980952  11.533333\n",
       "12       B  13.0  11.980952  11.533333\n",
       "13       C  10.1  11.980952  11.825000\n",
       "14       C  13.0  11.980952  11.825000\n",
       "15       C  13.4  11.980952  11.825000\n",
       "16       C  12.9  11.980952  11.825000\n",
       "17       C   8.9  11.980952  11.825000\n",
       "18       C  10.7  11.980952  11.825000\n",
       "19       C  13.6  11.980952  11.825000\n",
       "20       C  12.0  11.980952  11.825000"
      ]
     },
     "execution_count": 49,
     "metadata": {},
     "output_type": "execute_result"
    }
   ],
   "source": [
    "data = data.merge(gMean, left_on='Campain', right_index=True)\n",
    "data"
   ]
  },
  {
   "cell_type": "code",
   "execution_count": 50,
   "id": "0a4e188f",
   "metadata": {},
   "outputs": [
    {
     "data": {
      "text/plain": [
       "39.52547619047619"
      ]
     },
     "execution_count": 50,
     "metadata": {},
     "output_type": "execute_result"
    }
   ],
   "source": [
    "# Residual\n",
    "ss_r = sum((data['Sell'] - data['gMean']) ** 2)\n",
    "ss_r"
   ]
  },
  {
   "cell_type": "code",
   "execution_count": 51,
   "id": "d8c96b52",
   "metadata": {},
   "outputs": [
    {
     "data": {
      "text/plain": [
       "3.6069047619047634"
      ]
     },
     "execution_count": 51,
     "metadata": {},
     "output_type": "execute_result"
    }
   ],
   "source": [
    "# sum_sq explain = 3.606905\n",
    "ss_e = sum((data['Mean'] - data['gMean']) ** 2)\n",
    "ss_e"
   ]
  },
  {
   "cell_type": "code",
   "execution_count": 52,
   "id": "d72975c4",
   "metadata": {},
   "outputs": [
    {
     "data": {
      "text/plain": [
       "1.8034523809523817"
      ]
     },
     "execution_count": 52,
     "metadata": {},
     "output_type": "execute_result"
    }
   ],
   "source": [
    "# mean_sq = ss_e / df\n",
    "ms_e = ss_e / 2\n",
    "ms_e"
   ]
  },
  {
   "cell_type": "code",
   "execution_count": 53,
   "id": "62162a09",
   "metadata": {},
   "outputs": [
    {
     "data": {
      "text/plain": [
       "2.1958597883597886"
      ]
     },
     "execution_count": 53,
     "metadata": {},
     "output_type": "execute_result"
    }
   ],
   "source": [
    "ms_r = ss_r / 18\n",
    "ms_r"
   ]
  },
  {
   "cell_type": "code",
   "execution_count": 54,
   "id": "fee99500",
   "metadata": {},
   "outputs": [
    {
     "data": {
      "text/plain": [
       "0.8212966923081559"
      ]
     },
     "execution_count": 54,
     "metadata": {},
     "output_type": "execute_result"
    }
   ],
   "source": [
    "# f\n",
    "f = ms_e / ms_r\n",
    "f"
   ]
  },
  {
   "cell_type": "code",
   "execution_count": 61,
   "id": "b949da3b",
   "metadata": {},
   "outputs": [
    {
     "data": {
      "text/plain": [
       "0.4556832940515234"
      ]
     },
     "execution_count": 61,
     "metadata": {},
     "output_type": "execute_result"
    }
   ],
   "source": [
    "# درجه آزادی اول 2 هست و درجه آزادی دوم 18 هست\n",
    "# چونکه میخوایم احتمال شانسی بودن رو حساب کنیم پس منهی یک میکنیم\n",
    "pValue = 1 - st.stats.f.cdf(f, 2, 18)\n",
    "pValue"
   ]
  },
  {
   "cell_type": "code",
   "execution_count": 62,
   "id": "0600b9fd",
   "metadata": {},
   "outputs": [
    {
     "data": {
      "text/plain": [
       "array([0.92065413, 3.46749856, 2.39531508, ..., 0.17340794, 0.52894875,\n",
       "       2.16509317])"
      ]
     },
     "execution_count": 62,
     "metadata": {},
     "output_type": "execute_result"
    }
   ],
   "source": [
    "d = st.stats.f.rvs(2, 18, size=10000)\n",
    "d"
   ]
  },
  {
   "cell_type": "code",
   "execution_count": 64,
   "id": "b697e7e4",
   "metadata": {},
   "outputs": [
    {
     "data": {
      "text/plain": [
       "[<matplotlib.lines.Line2D at 0x7f2f791603a0>]"
      ]
     },
     "execution_count": 64,
     "metadata": {},
     "output_type": "execute_result"
    },
    {
     "data": {
      "image/png": "[encoded data removed]",
      "text/plain": [
       "<Figure size 432x288 with 1 Axes>"
      ]
     },
     "metadata": {
      "needs_background": "light"
     },
     "output_type": "display_data"
    }
   ],
   "source": [
    "plt.plot(d)"
   ]
  },
  {
   "cell_type": "code",
   "execution_count": 66,
   "id": "1cea0a40",
   "metadata": {},
   "outputs": [
    {
     "data": {
      "text/plain": [
       "(array([2.026e+03, 1.570e+03, 1.261e+03, 1.012e+03, 7.610e+02, 6.000e+02,\n",
       "        4.780e+02, 4.320e+02, 3.160e+02, 2.580e+02, 2.340e+02, 1.520e+02,\n",
       "        1.630e+02, 1.180e+02, 9.300e+01, 8.600e+01, 6.900e+01, 4.200e+01,\n",
       "        4.400e+01, 4.100e+01, 4.100e+01, 3.100e+01, 2.100e+01, 1.800e+01,\n",
       "        1.600e+01, 9.000e+00, 1.700e+01, 1.100e+01, 9.000e+00, 7.000e+00,\n",
       "        7.000e+00, 5.000e+00, 5.000e+00, 4.000e+00, 8.000e+00, 1.000e+00,\n",
       "        7.000e+00, 4.000e+00, 2.000e+00, 2.000e+00, 1.000e+00, 2.000e+00,\n",
       "        0.000e+00, 1.000e+00, 1.000e+00, 1.000e+00, 0.000e+00, 1.000e+00,\n",
       "        1.000e+00, 2.000e+00, 0.000e+00, 2.000e+00, 1.000e+00, 1.000e+00,\n",
       "        0.000e+00, 1.000e+00, 0.000e+00, 0.000e+00, 0.000e+00, 0.000e+00,\n",
       "        1.000e+00, 0.000e+00, 0.000e+00, 0.000e+00, 0.000e+00, 0.000e+00,\n",
       "        0.000e+00, 0.000e+00, 0.000e+00, 0.000e+00, 1.000e+00, 0.000e+00,\n",
       "        0.000e+00, 0.000e+00, 0.000e+00, 0.000e+00, 0.000e+00, 0.000e+00,\n",
       "        0.000e+00, 0.000e+00, 0.000e+00, 0.000e+00, 0.000e+00, 0.000e+00,\n",
       "        0.000e+00, 0.000e+00, 0.000e+00, 0.000e+00, 0.000e+00, 0.000e+00,\n",
       "        0.000e+00, 0.000e+00, 0.000e+00, 0.000e+00, 0.000e+00, 1.000e+00,\n",
       "        0.000e+00, 0.000e+00, 0.000e+00, 1.000e+00]),\n",
       " array([1.60738442e-04, 2.32590588e-01, 4.65020437e-01, 6.97450286e-01,\n",
       "        9.29880136e-01, 1.16230999e+00, 1.39473983e+00, 1.62716968e+00,\n",
       "        1.85959953e+00, 2.09202938e+00, 2.32445923e+00, 2.55688908e+00,\n",
       "        2.78931893e+00, 3.02174878e+00, 3.25417863e+00, 3.48660848e+00,\n",
       "        3.71903833e+00, 3.95146818e+00, 4.18389803e+00, 4.41632788e+00,\n",
       "        4.64875772e+00, 4.88118757e+00, 5.11361742e+00, 5.34604727e+00,\n",
       "        5.57847712e+00, 5.81090697e+00, 6.04333682e+00, 6.27576667e+00,\n",
       "        6.50819652e+00, 6.74062637e+00, 6.97305622e+00, 7.20548607e+00,\n",
       "        7.43791592e+00, 7.67034577e+00, 7.90277562e+00, 8.13520546e+00,\n",
       "        8.36763531e+00, 8.60006516e+00, 8.83249501e+00, 9.06492486e+00,\n",
       "        9.29735471e+00, 9.52978456e+00, 9.76221441e+00, 9.99464426e+00,\n",
       "        1.02270741e+01, 1.04595040e+01, 1.06919338e+01, 1.09243637e+01,\n",
       "        1.11567935e+01, 1.13892234e+01, 1.16216532e+01, 1.18540831e+01,\n",
       "        1.20865129e+01, 1.23189428e+01, 1.25513726e+01, 1.27838025e+01,\n",
       "        1.30162323e+01, 1.32486621e+01, 1.34810920e+01, 1.37135218e+01,\n",
       "        1.39459517e+01, 1.41783815e+01, 1.44108114e+01, 1.46432412e+01,\n",
       "        1.48756711e+01, 1.51081009e+01, 1.53405308e+01, 1.55729606e+01,\n",
       "        1.58053905e+01, 1.60378203e+01, 1.62702502e+01, 1.65026800e+01,\n",
       "        1.67351099e+01, 1.69675397e+01, 1.71999696e+01, 1.74323994e+01,\n",
       "        1.76648293e+01, 1.78972591e+01, 1.81296890e+01, 1.83621188e+01,\n",
       "        1.85945487e+01, 1.88269785e+01, 1.90594084e+01, 1.92918382e+01,\n",
       "        1.95242681e+01, 1.97566979e+01, 1.99891278e+01, 2.02215576e+01,\n",
       "        2.04539875e+01, 2.06864173e+01, 2.09188472e+01, 2.11512770e+01,\n",
       "        2.13837069e+01, 2.16161367e+01, 2.18485666e+01, 2.20809964e+01,\n",
       "        2.23134263e+01, 2.25458561e+01, 2.27782860e+01, 2.30107158e+01,\n",
       "        2.32431457e+01]),\n",
       " <BarContainer object of 100 artists>)"
      ]
     },
     "execution_count": 66,
     "metadata": {},
     "output_type": "execute_result"
    },
    {
     "data": {
      "image/png": "[encoded data removed]",
      "text/plain": [
       "<Figure size 432x288 with 1 Axes>"
      ]
     },
     "metadata": {
      "needs_background": "light"
     },
     "output_type": "display_data"
    }
   ],
   "source": [
    "plt.hist(d, bins=100)"
   ]
  },
  {
   "cell_type": "code",
   "execution_count": null,
   "id": "7ddfcb8f",
   "metadata": {},
   "outputs": [],
   "source": []
  }
 ],
 "metadata": {
  "kernelspec": {
   "display_name": "Python 3 (ipykernel)",
   "language": "python",
   "name": "python3"
  },
  "language_info": {
   "codemirror_mode": {
    "name": "ipython",
    "version": 3
   },
   "file_extension": ".py",
   "mimetype": "text/x-python",
   "name": "python",
   "nbconvert_exporter": "python",
   "pygments_lexer": "ipython3",
   "version": "3.8.10"
  }
 },
 "nbformat": 4,
 "nbformat_minor": 5
}
