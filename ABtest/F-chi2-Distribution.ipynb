{
 "cells": [
  {
   "cell_type": "markdown",
   "id": "ce2c2ccf",
   "metadata": {},
   "source": [
    "درجه آزادی به اون چیزی میگن که ما میتوانیم تغییر بدیم یعنی به اون اندازه یا درجه ای که ما توانایی تغییر رو داریم\n",
    "\n",
    "https://docs.scipy.org/doc/scipy/reference/generated/scipy.stats.f.html\n",
    "\n",
    "f distribution بیشتر در آنالیز واریانس استفاده میشود \n",
    "\n",
    "chi2 بیشتر در ماشین لرنینگ کاربرد دارد"
   ]
  },
  {
   "cell_type": "code",
   "execution_count": 2,
   "id": "59391af3",
   "metadata": {},
   "outputs": [],
   "source": [
    "from scipy.stats import f\n",
    "import matplotlib.pyplot as plt"
   ]
  },
  {
   "cell_type": "code",
   "execution_count": 3,
   "id": "eedfa3fe",
   "metadata": {},
   "outputs": [],
   "source": [
    "# اف برای اینکه خودش را بسازد نیاز به درجه آزادی 1 و درجه آزادی 2 دارد\n",
    "# درجه آزادی مجموعه اول 4 و درجه آزادی مجموعه دوم 8 هست مثلا\n",
    "\n",
    "data = f.rvs(4, 8, size=1000)"
   ]
  },
  {
   "cell_type": "code",
   "execution_count": 6,
   "id": "eabef99b",
   "metadata": {},
   "outputs": [
    {
     "data": {
      "text/plain": [
       "(array([0.46091409, 0.59734465, 0.67477822, 0.46091409, 0.33554545,\n",
       "        0.23598801, 0.20648951, 0.11799401, 0.12168132, 0.07743357,\n",
       "        0.07374625, 0.04424775, 0.04793506, 0.04793506, 0.02581119,\n",
       "        0.02212388, 0.00737463, 0.01843656, 0.01474925, 0.01106194,\n",
       "        0.01474925, 0.01474925, 0.00737463, 0.00368731, 0.00368731,\n",
       "        0.01474925, 0.        , 0.00737463, 0.        , 0.00368731,\n",
       "        0.        , 0.00368731, 0.        , 0.        , 0.        ,\n",
       "        0.00368731, 0.        , 0.        , 0.        , 0.        ,\n",
       "        0.        , 0.        , 0.        , 0.        , 0.00368731,\n",
       "        0.        , 0.        , 0.        , 0.        , 0.00368731]),\n",
       " array([1.24917219e-02, 2.83691939e-01, 5.54892156e-01, 8.26092373e-01,\n",
       "        1.09729259e+00, 1.36849281e+00, 1.63969302e+00, 1.91089324e+00,\n",
       "        2.18209346e+00, 2.45329367e+00, 2.72449389e+00, 2.99569411e+00,\n",
       "        3.26689433e+00, 3.53809454e+00, 3.80929476e+00, 4.08049498e+00,\n",
       "        4.35169519e+00, 4.62289541e+00, 4.89409563e+00, 5.16529584e+00,\n",
       "        5.43649606e+00, 5.70769628e+00, 5.97889650e+00, 6.25009671e+00,\n",
       "        6.52129693e+00, 6.79249715e+00, 7.06369736e+00, 7.33489758e+00,\n",
       "        7.60609780e+00, 7.87729801e+00, 8.14849823e+00, 8.41969845e+00,\n",
       "        8.69089867e+00, 8.96209888e+00, 9.23329910e+00, 9.50449932e+00,\n",
       "        9.77569953e+00, 1.00468998e+01, 1.03181000e+01, 1.05893002e+01,\n",
       "        1.08605004e+01, 1.11317006e+01, 1.14029008e+01, 1.16741011e+01,\n",
       "        1.19453013e+01, 1.22165015e+01, 1.24877017e+01, 1.27589019e+01,\n",
       "        1.30301021e+01, 1.33013024e+01, 1.35725026e+01]),\n",
       " <BarContainer object of 50 artists>)"
      ]
     },
     "execution_count": 6,
     "metadata": {},
     "output_type": "execute_result"
    },
    {
     "data": {
      "image/png": "[encoded data removed]",
      "text/plain": [
       "<Figure size 432x288 with 1 Axes>"
      ]
     },
     "metadata": {
      "needs_background": "light"
     },
     "output_type": "display_data"
    }
   ],
   "source": [
    "# اف به سمت راست کشیدگی دارد یعنی به سمت مثبت\n",
    "plt.hist(data, density=True, bins=50)"
   ]
  },
  {
   "cell_type": "code",
   "execution_count": 7,
   "id": "905d5a30",
   "metadata": {},
   "outputs": [
    {
     "data": {
      "text/plain": [
       "(array([0.17519951, 0.4582141 , 0.75470557, 0.91642819, 0.81535155,\n",
       "        0.7277518 , 0.43126033, 0.44473721, 0.34366057, 0.35713746,\n",
       "        0.21563016, 0.18193795, 0.12803041, 0.12129197, 0.11455352,\n",
       "        0.06738443, 0.05390754, 0.06064598, 0.06738443, 0.03369221,\n",
       "        0.04043066, 0.08759975, 0.01347689, 0.01347689, 0.02021533,\n",
       "        0.02021533, 0.00673844, 0.        , 0.00673844, 0.00673844,\n",
       "        0.        , 0.00673844, 0.00673844, 0.00673844, 0.00673844,\n",
       "        0.        , 0.        , 0.        , 0.        , 0.00673844,\n",
       "        0.        , 0.        , 0.00673844, 0.        , 0.        ,\n",
       "        0.00673844, 0.        , 0.        , 0.        , 0.00673844]),\n",
       " array([0.26144111, 0.40984336, 0.5582456 , 0.70664784, 0.85505009,\n",
       "        1.00345233, 1.15185457, 1.30025682, 1.44865906, 1.59706131,\n",
       "        1.74546355, 1.89386579, 2.04226804, 2.19067028, 2.33907253,\n",
       "        2.48747477, 2.63587701, 2.78427926, 2.9326815 , 3.08108374,\n",
       "        3.22948599, 3.37788823, 3.52629048, 3.67469272, 3.82309496,\n",
       "        3.97149721, 4.11989945, 4.2683017 , 4.41670394, 4.56510618,\n",
       "        4.71350843, 4.86191067, 5.01031292, 5.15871516, 5.3071174 ,\n",
       "        5.45551965, 5.60392189, 5.75232413, 5.90072638, 6.04912862,\n",
       "        6.19753087, 6.34593311, 6.49433535, 6.6427376 , 6.79113984,\n",
       "        6.93954209, 7.08794433, 7.23634657, 7.38474882, 7.53315106,\n",
       "        7.68155331]),\n",
       " <BarContainer object of 50 artists>)"
      ]
     },
     "execution_count": 7,
     "metadata": {},
     "output_type": "execute_result"
    },
    {
     "data": {
      "image/png": "[encoded data removed]",
      "text/plain": [
       "<Figure size 432x288 with 1 Axes>"
      ]
     },
     "metadata": {
      "needs_background": "light"
     },
     "output_type": "display_data"
    }
   ],
   "source": [
    "data = f.rvs(30, 10, size=1000)\n",
    "plt.hist(data, density=True, bins=50)\n",
    "# در هیستوگرام میتوان دید که از سمت چپ به راست به یکباره افزایش میابد و\n",
    "# سپس به صورت پله ای کاهش میابد که این از خاصیت اف هست\n"
   ]
  },
  {
   "cell_type": "code",
   "execution_count": 8,
   "id": "cab74a89",
   "metadata": {},
   "outputs": [],
   "source": [
    "#https://docs.scipy.org/doc/scipy/reference/generated/scipy.stats.chi2.html\n",
    "from scipy.stats import chi2"
   ]
  },
  {
   "cell_type": "code",
   "execution_count": 10,
   "id": "89458299",
   "metadata": {},
   "outputs": [],
   "source": [
    "data = chi2.rvs(7, size=10000)"
   ]
  },
  {
   "cell_type": "code",
   "execution_count": 11,
   "id": "47453242",
   "metadata": {},
   "outputs": [
    {
     "data": {
      "text/plain": [
       "(array([ 47., 185., 354., 492., 613., 683., 816., 784., 687., 708., 668.,\n",
       "        567., 508., 469., 396., 345., 331., 246., 226., 162., 116., 109.,\n",
       "        100.,  71.,  62.,  33.,  50.,  28.,  31.,  28.,  18.,  15.,  14.,\n",
       "          8.,  10.,   2.,   4.,   3.,   1.,   2.,   3.,   3.,   0.,   1.,\n",
       "          0.,   0.,   0.,   0.,   0.,   1.]),\n",
       " array([ 0.43122198,  1.05312932,  1.67503667,  2.29694402,  2.91885137,\n",
       "         3.54075872,  4.16266607,  4.78457341,  5.40648076,  6.02838811,\n",
       "         6.65029546,  7.27220281,  7.89411015,  8.5160175 ,  9.13792485,\n",
       "         9.7598322 , 10.38173955, 11.00364689, 11.62555424, 12.24746159,\n",
       "        12.86936894, 13.49127629, 14.11318363, 14.73509098, 15.35699833,\n",
       "        15.97890568, 16.60081303, 17.22272037, 17.84462772, 18.46653507,\n",
       "        19.08844242, 19.71034977, 20.33225711, 20.95416446, 21.57607181,\n",
       "        22.19797916, 22.81988651, 23.44179385, 24.0637012 , 24.68560855,\n",
       "        25.3075159 , 25.92942325, 26.55133059, 27.17323794, 27.79514529,\n",
       "        28.41705264, 29.03895999, 29.66086733, 30.28277468, 30.90468203,\n",
       "        31.52658938]),\n",
       " <BarContainer object of 50 artists>)"
      ]
     },
     "execution_count": 11,
     "metadata": {},
     "output_type": "execute_result"
    },
    {
     "data": {
      "image/png": "[encoded data removed]",
      "text/plain": [
       "<Figure size 432x288 with 1 Axes>"
      ]
     },
     "metadata": {
      "needs_background": "light"
     },
     "output_type": "display_data"
    }
   ],
   "source": [
    "plt.hist(data, bins=50)"
   ]
  },
  {
   "cell_type": "code",
   "execution_count": 13,
   "id": "914f24cf",
   "metadata": {},
   "outputs": [
    {
     "data": {
      "text/plain": [
       "(array([  1.,   0.,   1.,   2.,   4.,   4.,  10.,  11.,  17.,  26.,  44.,\n",
       "         63.,  81., 143., 194., 191., 267., 299., 380., 439., 486., 535.,\n",
       "        567., 600., 666., 597., 608., 558., 514., 497., 378., 353., 330.,\n",
       "        255., 212., 172., 148.,  78.,  86.,  58.,  39.,  33.,  15.,  15.,\n",
       "         10.,   6.,   1.,   2.,   3.,   1.]),\n",
       " array([ 828.64441924,  835.47317204,  842.30192485,  849.13067765,\n",
       "         855.95943046,  862.78818326,  869.61693607,  876.44568887,\n",
       "         883.27444168,  890.10319448,  896.93194728,  903.76070009,\n",
       "         910.58945289,  917.4182057 ,  924.2469585 ,  931.07571131,\n",
       "         937.90446411,  944.73321692,  951.56196972,  958.39072253,\n",
       "         965.21947533,  972.04822814,  978.87698094,  985.70573374,\n",
       "         992.53448655,  999.36323935, 1006.19199216, 1013.02074496,\n",
       "        1019.84949777, 1026.67825057, 1033.50700338, 1040.33575618,\n",
       "        1047.16450899, 1053.99326179, 1060.82201459, 1067.6507674 ,\n",
       "        1074.4795202 , 1081.30827301, 1088.13702581, 1094.96577862,\n",
       "        1101.79453142, 1108.62328423, 1115.45203703, 1122.28078984,\n",
       "        1129.10954264, 1135.93829544, 1142.76704825, 1149.59580105,\n",
       "        1156.42455386, 1163.25330666, 1170.08205947]),\n",
       " <BarContainer object of 50 artists>)"
      ]
     },
     "execution_count": 13,
     "metadata": {},
     "output_type": "execute_result"
    },
    {
     "data": {
      "image/png": "[encoded data removed]",
      "text/plain": [
       "<Figure size 432x288 with 1 Axes>"
      ]
     },
     "metadata": {
      "needs_background": "light"
     },
     "output_type": "display_data"
    }
   ],
   "source": [
    "# هر چه درجه آزادی بیشتر شود بیشتر به سمت توزیع نرمال گرایش پیدا میکند که به صورت پی دی اف به دست می آید\n",
    "# PDF = پی دی اف\n",
    "# https://integratedmlai.com/normal-distribution-an-introductory-guide-to-pdf-and-cdf/\n",
    "data = chi2.rvs(1000, size=10000)\n",
    "plt.hist(data, bins=50)"
   ]
  },
  {
   "cell_type": "code",
   "execution_count": null,
   "id": "476b6b8a",
   "metadata": {},
   "outputs": [],
   "source": []
  }
 ],
 "metadata": {
  "kernelspec": {
   "display_name": "Python 3 (ipykernel)",
   "language": "python",
   "name": "python3"
  },
  "language_info": {
   "codemirror_mode": {
    "name": "ipython",
    "version": 3
   },
   "file_extension": ".py",
   "mimetype": "text/x-python",
   "name": "python",
   "nbconvert_exporter": "python",
   "pygments_lexer": "ipython3",
   "version": "3.8.10"
  }
 },
 "nbformat": 4,
 "nbformat_minor": 5
}
