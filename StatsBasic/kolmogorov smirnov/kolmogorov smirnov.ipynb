{
 "cells": [
  {
   "cell_type": "markdown",
   "id": "45edbc8a",
   "metadata": {},
   "source": [
    "https://en.wikipedia.org/wiki/Kolmogorov%E2%80%93Smirnov_test"
   ]
  },
  {
   "cell_type": "code",
   "execution_count": null,
   "id": "1fb5fd1b",
   "metadata": {},
   "outputs": [],
   "source": []
  }
 ],
 "metadata": {
  "kernelspec": {
   "display_name": "Python 3 (ipykernel)",
   "language": "python",
   "name": "python3"
  },
  "language_info": {
   "codemirror_mode": {
    "name": "ipython",
    "version": 3
   },
   "file_extension": ".py",
   "mimetype": "text/x-python",
   "name": "python",
   "nbconvert_exporter": "python",
   "pygments_lexer": "ipython3",
   "version": "3.8.10"
  }
 },
 "nbformat": 4,
 "nbformat_minor": 5
}
