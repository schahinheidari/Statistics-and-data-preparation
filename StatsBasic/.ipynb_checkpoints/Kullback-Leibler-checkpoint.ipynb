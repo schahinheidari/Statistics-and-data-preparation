{
 "cells": [
  {
   "cell_type": "markdown",
   "id": "51cc4c6a",
   "metadata": {},
   "source": [
    "در این بخش به دنبال یادگیری این مورد هستیم که کدارم یک از توزیع های احتمالی را میتوانیم برای داده های خودمون استفاده کنیم\n",
    "\n",
    "In this section, we are looking to learn which one of the possible distributions we can use for our own data."
   ]
  },
  {
   "cell_type": "markdown",
   "id": "09bf4719",
   "metadata": {},
   "source": [
    "پارامترهای اون توزیع رو از توی دیتاهامون استخراج کنیم و بر اساس اون پارامترها یک توزیع ایده آل بسازیم و دیتای خودمون رو با اون توزیع ایده آل مقایسه کنیم.\n",
    "و ببینیم آیا دیتای ما با اون توزیع ایده آل شبیه به هم هستند یا نه اگر شبیه به هم بودند "
   ]
  }
 ],
 "metadata": {
  "kernelspec": {
   "display_name": "Python 3 (ipykernel)",
   "language": "python",
   "name": "python3"
  },
  "language_info": {
   "codemirror_mode": {
    "name": "ipython",
    "version": 3
   },
   "file_extension": ".py",
   "mimetype": "text/x-python",
   "name": "python",
   "nbconvert_exporter": "python",
   "pygments_lexer": "ipython3",
   "version": "3.8.10"
  }
 },
 "nbformat": 4,
 "nbformat_minor": 5
}
