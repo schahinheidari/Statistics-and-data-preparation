{
 "cells": [
  {
   "cell_type": "markdown",
   "id": "45edbc8a",
   "metadata": {},
   "source": [
    "https://en.wikipedia.org/wiki/Kolmogorov%E2%80%93Smirnov_test"
   ]
  },
  {
   "cell_type": "code",
   "execution_count": 20,
   "id": "1fb5fd1b",
   "metadata": {},
   "outputs": [],
   "source": [
    "import numpy as np\n",
    "import pandas as pd\n",
    "import scipy.stats as st\n",
    "from scipy.stats import entropy, poisson, norm\n",
    "from scipy.stats import kstest\n",
    "import matplotlib.pyplot as plt"
   ]
  },
  {
   "cell_type": "code",
   "execution_count": 15,
   "id": "54822715",
   "metadata": {},
   "outputs": [
    {
     "data": {
      "text/html": [
       "<div>\n",
       "<style scoped>\n",
       "    .dataframe tbody tr th:only-of-type {\n",
       "        vertical-align: middle;\n",
       "    }\n",
       "\n",
       "    .dataframe tbody tr th {\n",
       "        vertical-align: top;\n",
       "    }\n",
       "\n",
       "    .dataframe thead th {\n",
       "        text-align: right;\n",
       "    }\n",
       "</style>\n",
       "<table border=\"1\" class=\"dataframe\">\n",
       "  <thead>\n",
       "    <tr style=\"text-align: right;\">\n",
       "      <th></th>\n",
       "      <th>Gender</th>\n",
       "      <th>Height</th>\n",
       "      <th>Weight</th>\n",
       "    </tr>\n",
       "  </thead>\n",
       "  <tbody>\n",
       "    <tr>\n",
       "      <th>0</th>\n",
       "      <td>Male</td>\n",
       "      <td>73.847017</td>\n",
       "      <td>241.893563</td>\n",
       "    </tr>\n",
       "    <tr>\n",
       "      <th>1</th>\n",
       "      <td>Male</td>\n",
       "      <td>68.781904</td>\n",
       "      <td>162.310473</td>\n",
       "    </tr>\n",
       "    <tr>\n",
       "      <th>2</th>\n",
       "      <td>Male</td>\n",
       "      <td>74.110105</td>\n",
       "      <td>212.740856</td>\n",
       "    </tr>\n",
       "    <tr>\n",
       "      <th>3</th>\n",
       "      <td>Male</td>\n",
       "      <td>71.730978</td>\n",
       "      <td>220.042470</td>\n",
       "    </tr>\n",
       "    <tr>\n",
       "      <th>4</th>\n",
       "      <td>Male</td>\n",
       "      <td>69.881796</td>\n",
       "      <td>206.349801</td>\n",
       "    </tr>\n",
       "  </tbody>\n",
       "</table>\n",
       "</div>"
      ],
      "text/plain": [
       "  Gender     Height      Weight\n",
       "0   Male  73.847017  241.893563\n",
       "1   Male  68.781904  162.310473\n",
       "2   Male  74.110105  212.740856\n",
       "3   Male  71.730978  220.042470\n",
       "4   Male  69.881796  206.349801"
      ]
     },
     "execution_count": 15,
     "metadata": {},
     "output_type": "execute_result"
    }
   ],
   "source": [
    "#weight height\n",
    "whData = pd.read_csv('weight-height.csv')\n",
    "whData.head()"
   ]
  },
  {
   "cell_type": "code",
   "execution_count": 16,
   "id": "daa24f86",
   "metadata": {},
   "outputs": [
    {
     "name": "stdout",
     "output_type": "stream",
     "text": [
      "5000\n",
      "5000\n"
     ]
    }
   ],
   "source": [
    "malesHeight = whData[whData['Gender'] == 'Male']['Height']\n",
    "femalesHeight = whData[whData['Gender'] == 'Female']['Height']\n",
    "print(len(malesHeight))\n",
    "print(len(femalesHeight))"
   ]
  },
  {
   "cell_type": "code",
   "execution_count": 17,
   "id": "d0fc3695",
   "metadata": {},
   "outputs": [],
   "source": [
    "mCount, mDevision = np.histogram(malesHeight, bins=100) # devision = مرزها, count = تعداد\n",
    "fCount, fDevision = np.histogram(femalesHeight, bins=100)"
   ]
  },
  {
   "cell_type": "markdown",
   "id": "dc2bd1df",
   "metadata": {},
   "source": [
    "در اینجا ما دوتا فرضیه داریم یکی\n",
    "\n",
    "H0\n",
    "\n",
    "و دیگری فرضیه جایگزینی.. \n",
    "فرضیه صفر میگه که دوتا دیتا از یک توزیع واحد پیروی کنند و فرضیه جاگیزین میگه که دوتا دیتا از یک توزیع واحد پیروی نمیکنند... اگر\n",
    "\n",
    "pvalue \n",
    "\n",
    "زیر 5 درصد بود ما میتوانیم اچ صفر را رد کنیم"
   ]
  },
  {
   "cell_type": "code",
   "execution_count": 18,
   "id": "f9630e05",
   "metadata": {},
   "outputs": [
    {
     "data": {
      "text/plain": [
       "KstestResult(statistic=0.05, pvalue=0.9996892272702655)"
      ]
     },
     "execution_count": 18,
     "metadata": {},
     "output_type": "execute_result"
    }
   ],
   "source": [
    "# https://docs.scipy.org/doc/scipy/reference/generated/scipy.stats.kstest.html\n",
    "kstest(mCount, fCount)"
   ]
  },
  {
   "cell_type": "code",
   "execution_count": 21,
   "id": "7431c6de",
   "metadata": {},
   "outputs": [
    {
     "data": {
      "text/plain": [
       "[<matplotlib.lines.Line2D at 0x7f8e46dd7c70>]"
      ]
     },
     "execution_count": 21,
     "metadata": {},
     "output_type": "execute_result"
    },
    {
     "data": {
      "image/png": "[encoded data removed]",
      "text/plain": [
       "<Figure size 432x288 with 1 Axes>"
      ]
     },
     "metadata": {
      "needs_background": "light"
     },
     "output_type": "display_data"
    }
   ],
   "source": [
    "plt.plot(mCount)\n",
    "#  PDFهیستوگرام شبیه پی دی اف است"
   ]
  },
  {
   "cell_type": "code",
   "execution_count": 33,
   "id": "310dc3db",
   "metadata": {},
   "outputs": [
    {
     "data": {
      "text/plain": [
       "<matplotlib.legend.Legend at 0x7f8e4092ac10>"
      ]
     },
     "execution_count": 33,
     "metadata": {},
     "output_type": "execute_result"
    },
    {
     "data": {
      "image/png": "[encoded data removed]",
      "text/plain": [
       "<Figure size 432x288 with 1 Axes>"
      ]
     },
     "metadata": {
      "needs_background": "light"
     },
     "output_type": "display_data"
    }
   ],
   "source": [
    "# CDF\n",
    "plt.plot(np.cumsum(mCount), label='males') #cumulative sum\n",
    "plt.plot(np.cumsum(fCount), label='females')\n",
    "plt.legend(loc=\"upper left\")"
   ]
  },
  {
   "cell_type": "code",
   "execution_count": 19,
   "id": "019ee878",
   "metadata": {},
   "outputs": [
    {
     "data": {
      "text/plain": [
       "KstestResult(statistic=0.6664, pvalue=0.0)"
      ]
     },
     "execution_count": 19,
     "metadata": {},
     "output_type": "execute_result"
    }
   ],
   "source": [
    "kstest(malesHeight, femalesHeight)"
   ]
  },
  {
   "cell_type": "code",
   "execution_count": 40,
   "id": "a9024ae7",
   "metadata": {},
   "outputs": [
    {
     "data": {
      "text/plain": [
       "4794    58.406905\n",
       "2334    59.380650\n",
       "4637    59.868078\n",
       "2191    59.938650\n",
       "1942    59.981865\n",
       "          ...    \n",
       "994     78.095867\n",
       "1317    78.462053\n",
       "3285    78.528210\n",
       "3757    78.621374\n",
       "2014    78.998742\n",
       "Name: Height, Length: 5000, dtype: float64"
      ]
     },
     "execution_count": 40,
     "metadata": {},
     "output_type": "execute_result"
    }
   ],
   "source": [
    "malesHeight.sort_values()"
   ]
  },
  {
   "cell_type": "code",
   "execution_count": 39,
   "id": "2d120994",
   "metadata": {},
   "outputs": [
    {
     "data": {
      "text/plain": [
       "[<matplotlib.lines.Line2D at 0x7f8e40437e20>]"
      ]
     },
     "execution_count": 39,
     "metadata": {},
     "output_type": "execute_result"
    },
    {
     "data": {
      "image/png": "[encoded data removed]",
      "text/plain": [
       "<Figure size 432x288 with 1 Axes>"
      ]
     },
     "metadata": {
      "needs_background": "light"
     },
     "output_type": "display_data"
    }
   ],
   "source": [
    "plt.plot(malesHeight.sort_values())"
   ]
  },
  {
   "cell_type": "code",
   "execution_count": 43,
   "id": "b01c1dbe",
   "metadata": {},
   "outputs": [
    {
     "data": {
      "text/plain": [
       "0       58.406905\n",
       "1       59.380650\n",
       "2       59.868078\n",
       "3       59.938650\n",
       "4       59.981865\n",
       "          ...    \n",
       "4995    78.095867\n",
       "4996    78.462053\n",
       "4997    78.528210\n",
       "4998    78.621374\n",
       "4999    78.998742\n",
       "Name: Height, Length: 5000, dtype: float64"
      ]
     },
     "execution_count": 43,
     "metadata": {},
     "output_type": "execute_result"
    }
   ],
   "source": [
    "malesHeight.sort_values().reset_index(drop=True) #reset_index()\n",
    "# با استفاده از این تابع ایندکس ها رو حذف میکنیم که باعث میشه نمودار بهتر ترسیم بشه"
   ]
  },
  {
   "cell_type": "code",
   "execution_count": 47,
   "id": "4000f736",
   "metadata": {},
   "outputs": [
    {
     "data": {
      "text/plain": [
       "<matplotlib.legend.Legend at 0x7f8e403f6b50>"
      ]
     },
     "execution_count": 47,
     "metadata": {},
     "output_type": "execute_result"
    },
    {
     "data": {
      "image/png": "[encoded data removed]",
      "text/plain": [
       "<Figure size 432x288 with 1 Axes>"
      ]
     },
     "metadata": {
      "needs_background": "light"
     },
     "output_type": "display_data"
    }
   ],
   "source": [
    "plt.plot(malesHeight.sort_values().reset_index(drop=True), label='males')\n",
    "plt.plot(femalesHeight.sort_values().reset_index(drop=True), label='females')\n",
    "plt.legend(loc=\"upper left\")"
   ]
  },
  {
   "cell_type": "code",
   "execution_count": 35,
   "id": "3e22984b",
   "metadata": {},
   "outputs": [
    {
     "data": {
      "text/plain": [
       "<matplotlib.legend.Legend at 0x7f8e40854d00>"
      ]
     },
     "execution_count": 35,
     "metadata": {},
     "output_type": "execute_result"
    },
    {
     "data": {
      "image/png": "[encoded data removed]",
      "text/plain": [
       "<Figure size 432x288 with 1 Axes>"
      ]
     },
     "metadata": {
      "needs_background": "light"
     },
     "output_type": "display_data"
    }
   ],
   "source": [
    "plt.plot(np.cumsum(malesHeight.sort_values()), label='males') #cumulative sum\n",
    "plt.plot(np.cumsum(femalesHeight.sort_values()), label='females')\n",
    "plt.legend(loc=\"upper right\")"
   ]
  },
  {
   "cell_type": "code",
   "execution_count": 52,
   "id": "e92e85ee",
   "metadata": {},
   "outputs": [
    {
     "data": {
      "text/plain": [
       "<matplotlib.legend.Legend at 0x7f8e401e6fa0>"
      ]
     },
     "execution_count": 52,
     "metadata": {},
     "output_type": "execute_result"
    },
    {
     "data": {
      "image/png": "[encoded data removed]",
      "text/plain": [
       "<Figure size 432x288 with 1 Axes>"
      ]
     },
     "metadata": {
      "needs_background": "light"
     },
     "output_type": "display_data"
    }
   ],
   "source": [
    "#cumulative sum\n",
    "plt.plot(np.cumsum((malesHeight.sort_values().reset_index(drop=True))), label='males')\n",
    "plt.plot(np.cumsum((femalesHeight.sort_values().reset_index(drop=True))), label='females')\n",
    "plt.legend(loc=\"upper left\")"
   ]
  },
  {
   "cell_type": "code",
   "execution_count": 36,
   "id": "cf9af69d",
   "metadata": {},
   "outputs": [
    {
     "data": {
      "text/plain": [
       "<matplotlib.legend.Legend at 0x7f8e40935fd0>"
      ]
     },
     "execution_count": 36,
     "metadata": {},
     "output_type": "execute_result"
    },
    {
     "data": {
      "image/png": "[encoded data removed]",
      "text/plain": [
       "<Figure size 432x288 with 1 Axes>"
      ]
     },
     "metadata": {
      "needs_background": "light"
     },
     "output_type": "display_data"
    }
   ],
   "source": [
    "plt.plot(malesHeight.sort_values(), label='males')\n",
    "plt.plot(femalesHeight.sort_values(), label='females')\n",
    "plt.legend(loc=\"upper right\")"
   ]
  },
  {
   "cell_type": "code",
   "execution_count": 37,
   "id": "c663907f",
   "metadata": {},
   "outputs": [
    {
     "data": {
      "text/plain": [
       "<matplotlib.legend.Legend at 0x7f8e407ee970>"
      ]
     },
     "execution_count": 37,
     "metadata": {},
     "output_type": "execute_result"
    },
    {
     "data": {
      "image/png": "[encoded data removed]",
      "text/plain": [
       "<Figure size 432x288 with 1 Axes>"
      ]
     },
     "metadata": {
      "needs_background": "light"
     },
     "output_type": "display_data"
    }
   ],
   "source": [
    "plt.hist(malesHeight.sort_values(), bins=100, color='blue', label='males')\n",
    "plt.hist(femalesHeight.sort_values(), bins=100, color='orange', label='females')\n",
    "plt.legend(loc=\"upper right\")"
   ]
  },
  {
   "cell_type": "code",
   "execution_count": 38,
   "id": "26d65d7e",
   "metadata": {},
   "outputs": [
    {
     "data": {
      "text/plain": [
       "(array([  1.,   1.,   0.,   1.,   1.,   1.,   0.,   3.,   2.,   7.,   0.,\n",
       "          4.,   4.,   8.,   8.,  11.,   7.,   9.,  16.,  12.,  17.,  20.,\n",
       "         28.,  24.,  30.,  26.,  37.,  37.,  45.,  49.,  71.,  48.,  68.,\n",
       "         92.,  89.,  77.,  92.,  97., 108., 111., 127., 129., 115., 135.,\n",
       "        146., 130., 135., 133., 124., 152., 148., 130., 131., 142., 138.,\n",
       "        120., 129., 123.,  97., 108.,  93.,  93., 116.,  91.,  83.,  72.,\n",
       "         64.,  65.,  64.,  43.,  47.,  43.,  42.,  34.,  18.,  27.,  21.,\n",
       "         21.,  21.,  17.,  11.,  11.,   9.,   5.,   9.,  10.,   4.,   3.,\n",
       "          2.,   1.,   1.,   0.,   1.,   1.,   2.,   0.,   0.,   0.,   0.,\n",
       "          1.]),\n",
       " array([54.26313333, 54.45439785, 54.64566238, 54.8369269 , 55.02819143,\n",
       "        55.21945595, 55.41072048, 55.601985  , 55.79324953, 55.98451405,\n",
       "        56.17577858, 56.3670431 , 56.55830763, 56.74957216, 56.94083668,\n",
       "        57.13210121, 57.32336573, 57.51463026, 57.70589478, 57.89715931,\n",
       "        58.08842383, 58.27968836, 58.47095288, 58.66221741, 58.85348193,\n",
       "        59.04474646, 59.23601099, 59.42727551, 59.61854004, 59.80980456,\n",
       "        60.00106909, 60.19233361, 60.38359814, 60.57486266, 60.76612719,\n",
       "        60.95739171, 61.14865624, 61.33992077, 61.53118529, 61.72244982,\n",
       "        61.91371434, 62.10497887, 62.29624339, 62.48750792, 62.67877244,\n",
       "        62.87003697, 63.06130149, 63.25256602, 63.44383054, 63.63509507,\n",
       "        63.8263596 , 64.01762412, 64.20888865, 64.40015317, 64.5914177 ,\n",
       "        64.78268222, 64.97394675, 65.16521127, 65.3564758 , 65.54774032,\n",
       "        65.73900485, 65.93026938, 66.1215339 , 66.31279843, 66.50406295,\n",
       "        66.69532748, 66.886592  , 67.07785653, 67.26912105, 67.46038558,\n",
       "        67.6516501 , 67.84291463, 68.03417915, 68.22544368, 68.41670821,\n",
       "        68.60797273, 68.79923726, 68.99050178, 69.18176631, 69.37303083,\n",
       "        69.56429536, 69.75555988, 69.94682441, 70.13808893, 70.32935346,\n",
       "        70.52061798, 70.71188251, 70.90314704, 71.09441156, 71.28567609,\n",
       "        71.47694061, 71.66820514, 71.85946966, 72.05073419, 72.24199871,\n",
       "        72.43326324, 72.62452776, 72.81579229, 73.00705682, 73.19832134,\n",
       "        73.38958587]),\n",
       " <BarContainer object of 100 artists>)"
      ]
     },
     "execution_count": 38,
     "metadata": {},
     "output_type": "execute_result"
    },
    {
     "data": {
      "image/png": "[encoded data removed]",
      "text/plain": [
       "<Figure size 432x288 with 1 Axes>"
      ]
     },
     "metadata": {
      "needs_background": "light"
     },
     "output_type": "display_data"
    }
   ],
   "source": [
    "plt.hist(femalesHeight.sort_values(), bins=100)"
   ]
  },
  {
   "cell_type": "code",
   "execution_count": 53,
   "id": "029c8844",
   "metadata": {},
   "outputs": [
    {
     "data": {
      "text/plain": [
       "KstestResult(statistic=0.6664, pvalue=0.0)"
      ]
     },
     "execution_count": 53,
     "metadata": {},
     "output_type": "execute_result"
    }
   ],
   "source": [
    "kstest(malesHeight.sort_values().reset_index(drop=True), femalesHeight.sort_values().reset_index(drop=True))"
   ]
  },
  {
   "cell_type": "code",
   "execution_count": 54,
   "id": "76690e8a",
   "metadata": {},
   "outputs": [
    {
     "data": {
      "text/plain": [
       "KstestResult(statistic=0.6664, pvalue=0.0)"
      ]
     },
     "execution_count": 54,
     "metadata": {},
     "output_type": "execute_result"
    }
   ],
   "source": [
    "kstest(malesHeight, femalesHeight)"
   ]
  },
  {
   "cell_type": "code",
   "execution_count": 55,
   "id": "cc4f2603",
   "metadata": {},
   "outputs": [
    {
     "data": {
      "text/plain": [
       "69.02634590621741"
      ]
     },
     "execution_count": 55,
     "metadata": {},
     "output_type": "execute_result"
    }
   ],
   "source": [
    "malesHeight.mean()"
   ]
  },
  {
   "cell_type": "code",
   "execution_count": 56,
   "id": "bc0cd332",
   "metadata": {},
   "outputs": [
    {
     "data": {
      "text/plain": [
       "63.70877360342507"
      ]
     },
     "execution_count": 56,
     "metadata": {},
     "output_type": "execute_result"
    }
   ],
   "source": [
    "femalesHeight.mean()"
   ]
  },
  {
   "cell_type": "code",
   "execution_count": 57,
   "id": "e5fc1890",
   "metadata": {},
   "outputs": [],
   "source": [
    "normalMalesHeight = malesHeight - malesHeight.mean()"
   ]
  },
  {
   "cell_type": "code",
   "execution_count": 58,
   "id": "4d3318ea",
   "metadata": {},
   "outputs": [],
   "source": [
    "normalFemalesHeight = femalesHeight - femalesHeight.mean()"
   ]
  },
  {
   "cell_type": "code",
   "execution_count": 59,
   "id": "e874a663",
   "metadata": {},
   "outputs": [
    {
     "data": {
      "text/plain": [
       "<matplotlib.legend.Legend at 0x7f8e402396a0>"
      ]
     },
     "execution_count": 59,
     "metadata": {},
     "output_type": "execute_result"
    },
    {
     "data": {
      "image/png": "[encoded data removed]",
      "text/plain": [
       "<Figure size 432x288 with 1 Axes>"
      ]
     },
     "metadata": {
      "needs_background": "light"
     },
     "output_type": "display_data"
    }
   ],
   "source": [
    "plt.hist(normalMalesHeight.sort_values(), bins=100, color='blue', label='nMales')\n",
    "plt.hist(normalFemalesHeight.sort_values(), bins=100, color='orange', label='nFemales')\n",
    "plt.legend(loc=\"upper right\")"
   ]
  },
  {
   "cell_type": "code",
   "execution_count": 60,
   "id": "d160954d",
   "metadata": {},
   "outputs": [
    {
     "data": {
      "text/plain": [
       "KstestResult(statistic=0.0194, pvalue=0.3035775745288207)"
      ]
     },
     "execution_count": 60,
     "metadata": {},
     "output_type": "execute_result"
    }
   ],
   "source": [
    "kstest(normalMalesHeight, normalFemalesHeight) #2 ways"
   ]
  },
  {
   "cell_type": "code",
   "execution_count": 61,
   "id": "ffa14c2e",
   "metadata": {},
   "outputs": [
    {
     "data": {
      "text/plain": [
       "KstestResult(statistic=0.2380852585897515, pvalue=7.336270444284483e-250)"
      ]
     },
     "execution_count": 61,
     "metadata": {},
     "output_type": "execute_result"
    }
   ],
   "source": [
    "kstest(normalMalesHeight, 'norm') #1 way"
   ]
  },
  {
   "cell_type": "code",
   "execution_count": 62,
   "id": "36413d1c",
   "metadata": {},
   "outputs": [
    {
     "data": {
      "text/plain": [
       "4.305888978706207e-15"
      ]
     },
     "execution_count": 62,
     "metadata": {},
     "output_type": "execute_result"
    }
   ],
   "source": [
    "normalMalesHeight.mean()"
   ]
  },
  {
   "cell_type": "code",
   "execution_count": 63,
   "id": "d8080408",
   "metadata": {},
   "outputs": [
    {
     "data": {
      "text/plain": [
       "2.863362228660647"
      ]
     },
     "execution_count": 63,
     "metadata": {},
     "output_type": "execute_result"
    }
   ],
   "source": [
    "normalMalesHeight.std()"
   ]
  },
  {
   "cell_type": "code",
   "execution_count": 64,
   "id": "c9424c68",
   "metadata": {},
   "outputs": [
    {
     "data": {
      "text/plain": [
       "array([ 2.77877987e+00,  5.79152220e+00, -2.51805079e+00, ...,\n",
       "       -7.40060992e-04,  2.88945985e+00, -7.47731401e+00])"
      ]
     },
     "execution_count": 64,
     "metadata": {},
     "output_type": "execute_result"
    }
   ],
   "source": [
    "idealData = norm.rvs(size=len(normalMalesHeight), loc=normalMalesHeight.mean(), scale=normalMalesHeight.std())\n",
    "idealData"
   ]
  },
  {
   "cell_type": "code",
   "execution_count": 65,
   "id": "7a69baf5",
   "metadata": {},
   "outputs": [
    {
     "data": {
      "text/plain": [
       "KstestResult(statistic=0.0172, pvalue=0.45029268979401865)"
      ]
     },
     "execution_count": 65,
     "metadata": {},
     "output_type": "execute_result"
    }
   ],
   "source": [
    "kstest(normalMalesHeight, idealData)\n",
    "# از یک توزیع استفاده میکنند هر دو دیتا"
   ]
  },
  {
   "cell_type": "code",
   "execution_count": null,
   "id": "50011006",
   "metadata": {},
   "outputs": [],
   "source": []
  }
 ],
 "metadata": {
  "kernelspec": {
   "display_name": "Python 3 (ipykernel)",
   "language": "python",
   "name": "python3"
  },
  "language_info": {
   "codemirror_mode": {
    "name": "ipython",
    "version": 3
   },
   "file_extension": ".py",
   "mimetype": "text/x-python",
   "name": "python",
   "nbconvert_exporter": "python",
   "pygments_lexer": "ipython3",
   "version": "3.8.10"
  }
 },
 "nbformat": 4,
 "nbformat_minor": 5
}
