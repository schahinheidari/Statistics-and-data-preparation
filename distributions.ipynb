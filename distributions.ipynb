{
 "cells": [
  {
   "cell_type": "code",
   "execution_count": 1,
   "id": "db443433",
   "metadata": {},
   "outputs": [],
   "source": [
    "from scipy import stats\n",
    "from scipy.stats import norm\n",
    "import matplotlib.pyplot as plt\n",
    "import seaborn as sns\n",
    "import numpy as np"
   ]
  },
  {
   "cell_type": "code",
   "execution_count": 32,
   "id": "b7164a27",
   "metadata": {},
   "outputs": [],
   "source": [
    "dataNormal = stats.norm.rvs(size=10000, loc=0, scale=1) #loc=mean(), scale=std, we can change number of size\n",
    "#The location (loc) keyword specifies the mean. The scale (scale) keyword specifies the standard deviation.\n",
    "# rvs = random variance\n",
    "#print(dataNormal)"
   ]
  },
  {
   "cell_type": "code",
   "execution_count": 33,
   "id": "3c22a336",
   "metadata": {},
   "outputs": [
    {
     "name": "stderr",
     "output_type": "stream",
     "text": [
      "/home/shahin/.local/lib/python3.8/site-packages/seaborn/distributions.py:2619: FutureWarning: `distplot` is a deprecated function and will be removed in a future version. Please adapt your code to use either `displot` (a figure-level function with similar flexibility) or `histplot` (an axes-level function for histograms).\n",
      "  warnings.warn(msg, FutureWarning)\n"
     ]
    },
    {
     "data": {
      "text/plain": [
       "<AxesSubplot:ylabel='Density'>"
      ]
     },
     "execution_count": 33,
     "metadata": {},
     "output_type": "execute_result"
    },
    {
     "data": {
      "image/png": "[encoded data removed]",
      "text/plain": [
       "<Figure size 432x288 with 1 Axes>"
      ]
     },
     "metadata": {
      "needs_background": "light"
     },
     "output_type": "display_data"
    }
   ],
   "source": [
    "sns.distplot(dataNormal, bins=100) #kde => Kernel density estimation"
   ]
  },
  {
   "cell_type": "code",
   "execution_count": 34,
   "id": "0be3b575",
   "metadata": {},
   "outputs": [
    {
     "name": "stderr",
     "output_type": "stream",
     "text": [
      "/home/shahin/.local/lib/python3.8/site-packages/seaborn/distributions.py:2619: FutureWarning: `distplot` is a deprecated function and will be removed in a future version. Please adapt your code to use either `displot` (a figure-level function with similar flexibility) or `histplot` (an axes-level function for histograms).\n",
      "  warnings.warn(msg, FutureWarning)\n"
     ]
    },
    {
     "data": {
      "text/plain": [
       "<AxesSubplot:>"
      ]
     },
     "execution_count": 34,
     "metadata": {},
     "output_type": "execute_result"
    },
    {
     "data": {
      "image/png": "[encoded data removed]",
      "text/plain": [
       "<Figure size 432x288 with 1 Axes>"
      ]
     },
     "metadata": {
      "needs_background": "light"
     },
     "output_type": "display_data"
    }
   ],
   "source": [
    "sns.distplot(dataNormal, bins=100, kde=False) #kde => Kernel density estimation"
   ]
  },
  {
   "cell_type": "code",
   "execution_count": 35,
   "id": "2e5f69f0",
   "metadata": {},
   "outputs": [],
   "source": [
    "#https://numpy.org/doc/stable/reference/random/generated/numpy.random.uniform.html\n",
    "dataUniform = stats.uniform.rvs(size=1000, loc=0, scale=10)"
   ]
  },
  {
   "cell_type": "code",
   "execution_count": 36,
   "id": "44acaf8e",
   "metadata": {},
   "outputs": [
    {
     "data": {
      "text/plain": [
       "<AxesSubplot:>"
      ]
     },
     "execution_count": 36,
     "metadata": {},
     "output_type": "execute_result"
    },
    {
     "data": {
      "image/png": "[encoded data removed]",
      "text/plain": [
       "<Figure size 432x288 with 1 Axes>"
      ]
     },
     "metadata": {
      "needs_background": "light"
     },
     "output_type": "display_data"
    }
   ],
   "source": [
    "sns.distplot(dataUniform, bins=100, kde=False)"
   ]
  },
  {
   "cell_type": "code",
   "execution_count": 37,
   "id": "fc2846bd",
   "metadata": {},
   "outputs": [
    {
     "data": {
      "text/plain": [
       "<AxesSubplot:>"
      ]
     },
     "execution_count": 37,
     "metadata": {},
     "output_type": "execute_result"
    },
    {
     "data": {
      "image/png": "[encoded data removed]",
      "text/plain": [
       "<Figure size 432x288 with 1 Axes>"
      ]
     },
     "metadata": {
      "needs_background": "light"
     },
     "output_type": "display_data"
    }
   ],
   "source": [
    "dataUniform1 = stats.uniform.rvs(size=10000, loc=0, scale=10)\n",
    "sns.distplot(dataUniform1, bins=100, kde=False)"
   ]
  },
  {
   "cell_type": "code",
   "execution_count": 38,
   "id": "92b83714",
   "metadata": {},
   "outputs": [
    {
     "name": "stdout",
     "output_type": "stream",
     "text": [
      "[0 0 0 0 0 1 0 0 0 0 1 1 0 0 0 0 0 0 0 0 0 1 0 0 0 0 1 0 0 0 0 0 0 0 1 0 0\n",
      " 0 0 0 0 0 0 0 0 0 1 0 1 0 0 0 0 0 0 0 0 0 0 0 0 0 0 1 0 0 1 0 0 0 0 0 0 0\n",
      " 0 1 0 0 0 0 0 0 0 0 1 1 0 0 0 0 1 0 0 0 1 0 0 0 0 1 1 1 0 0 0 1 0 1 0 0 1\n",
      " 0 0 0 0 0 1 0 0 1 0 0 0 0 0 0 0 0 0 0 0 0 0 0 0 1 1 0 0 0 0 1 0 0 0 0 0 0\n",
      " 0 1 0 0 0 0 0 0 0 0 1 0 0 0 1 0 0 0 1 0 0 0 0 0 1 1 0 0 0 0 1 0 0 0 1 0 0\n",
      " 0 0 0 1 0 0 0 0 0 0 0 1 0 0 0 0 1 0 1 0 0 0 0 0 0 1 0 0 0 0 0 0 1 0 0 1 0\n",
      " 0 1 1 1 0 0 0 1 1 1 1 0 1 0 1 0 0 0 0 0 0 0 0 0 1 0 0 0 0 0 0 0 0 1 1 0 1\n",
      " 1 0 0 0 0 0 0 0 0 1 0 0 0 0 0 0 0 0 0 0 0 0 0 1 0 0 0 0 0 0 0 1 0 0 0 0 0\n",
      " 0 0 0 0 0 0 0 0 0 0 0 1 0 0 0 0 1 0 0 1 0 1 0 0 0 1 0 0 0 0 1 0 0 1 1 1 1\n",
      " 0 0 1 0 0 0 0 0 1 0 1 0 0 0 0 0 0 1 0 0 0 0 1 0 0 0 0 0 1 0 0 0 0 0 1 0 0\n",
      " 0 0 0 0 0 0 1 0 0 0 1 0 0 0 0 0 0 0 0 0 0 1 0 0 1 0 0 0 0 1 0 0 0 0 0 0 0\n",
      " 1 0 0 0 0 0 0 1 0 0 0 1 0 0 1 0 0 0 0 0 0 0 0 0 0 0 0 0 0 1 0 0 0 0 0 1 1\n",
      " 0 0 0 0 0 0 0 0 0 1 0 0 0 0 0 0 0 0 1 0 0 0 0 0 1 0 0 0 0 0 1 1 0 1 0 1 0\n",
      " 0 0 0 0 0 0 0 0 1 0 0 0 0 0 1 0 0 0 0 0 0 1 0 0 1 0 0 0 1 1 0 0 0 0 0 1 0\n",
      " 0 0 0 0 1 0 1 0 0 0 0 1 1 0 0 0 0 0 0 0 0 0 0 1 0 0 1 0 0 0 0 0 0 0 0 0 0\n",
      " 1 0 0 1 0 0 1 0 1 1 0 0 0 0 1 0 0 1 0 0 0 0 0 1 0 0 0 0 0 0 1 0 0 1 0 0 0\n",
      " 0 0 0 0 0 0 0 0 0 0 0 0 0 0 0 0 0 1 0 0 0 1 1 0 0 0 1 0 0 1 0 1 0 0 0 0 1\n",
      " 0 0 0 0 0 1 1 1 0 0 1 0 0 0 1 1 0 0 0 0 1 0 0 0 0 0 0 1 0 0 0 1 1 0 0 0 0\n",
      " 0 0 0 0 0 0 0 1 0 0 0 1 0 0 0 0 0 0 0 0 0 0 0 0 0 0 0 0 0 0 0 0 0 0 0 0 0\n",
      " 0 1 0 0 0 0 0 0 0 0 0 0 0 0 1 0 0 0 0 0 0 1 1 0 0 0 0 0 0 0 0 1 1 0 0 0 0\n",
      " 0 0 0 1 0 0 0 0 0 1 0 0 1 0 1 0 0 0 0 0 0 0 0 0 0 0 0 0 0 0 0 0 1 0 0 0 0\n",
      " 0 0 0 0 0 1 0 1 0 0 0 0 0 0 0 1 1 0 1 1 0 0 0 0 0 0 0 0 1 1 0 0 1 1 0 0 0\n",
      " 0 0 0 1 0 0 1 1 0 0 0 0 0 0 0 0 0 0 0 0 1 0 0 0 0 0 1 0 0 0 1 0 0 0 0 0 0\n",
      " 0 0 0 0 0 0 0 0 0 0 0 0 0 0 0 0 0 0 0 0 1 1 0 0 0 0 0 0 0 1 0 1 0 1 0 1 0\n",
      " 0 0 0 0 0 0 0 1 0 0 0 0 0 1 0 0 0 0 1 0 1 0 0 0 0 0 0 0 0 1 0 1 1 0 0 0 0\n",
      " 0 0 0 0 0 0 0 0 0 1 0 0 1 0 0 0 0 0 0 0 0 0 0 1 0 0 0 0 0 0 0 1 0 1 0 0 1\n",
      " 0 0 0 0 0 0 0 1 0 0 0 1 0 0 0 0 0 0 0 0 0 1 0 0 0 0 0 0 1 0 0 1 0 0 0 1 0\n",
      " 1]\n"
     ]
    }
   ],
   "source": [
    "#https://docs.scipy.org/doc/scipy/reference/generated/scipy.stats.bernoulli.html\n",
    "dataBernouli = stats.bernoulli.rvs(size=1000, p=0.2) #bernoulli takes p as shape parameter, \n",
    "#where p is the probability of a single success and p is the probability of a single failure\n",
    "print(dataBernouli)"
   ]
  },
  {
   "cell_type": "code",
   "execution_count": 39,
   "id": "d978d071",
   "metadata": {},
   "outputs": [
    {
     "data": {
      "text/plain": [
       "<AxesSubplot:>"
      ]
     },
     "execution_count": 39,
     "metadata": {},
     "output_type": "execute_result"
    },
    {
     "data": {
      "image/png": "[encoded data removed]",
      "text/plain": [
       "<Figure size 432x288 with 1 Axes>"
      ]
     },
     "metadata": {
      "needs_background": "light"
     },
     "output_type": "display_data"
    }
   ],
   "source": [
    "sns.distplot(dataBernouli, bins=100, kde=False)"
   ]
  },
  {
   "cell_type": "code",
   "execution_count": 41,
   "id": "fd00237e",
   "metadata": {},
   "outputs": [
    {
     "name": "stdout",
     "output_type": "stream",
     "text": [
      "[25 15 18 28 15 23 22 18 27 15 23 16 15 14 27 19 11 24 27 21 21 22 21 29\n",
      " 27 20 24 18 20 16 21 24 20 20 24 23 20 24 20 25 17 18 24 18 23 16 15 17\n",
      " 24 23 29 12 11 22 29 21 24 22 21 21 16 17 15 16 19 17 20 17 22 13 18 25\n",
      " 20 23 20 19 20 18 25 20 19 18 20 18 18 26 17 29 20 22 18 17 15 25 13 18\n",
      " 20 22 25 19 11 24 18 20 16 20 26 17 20 31 24 25 21 25 19 20 15 22 16 19\n",
      " 26 29 20 19 28 22 12 24 17 18 30 19 17 18 21 22 19 24 17 25 20 20 23 18\n",
      " 28 20 26 18 20 22 17 18 24 34 22 20 26 25 19 17 16 20 18 17 19 24 24 17\n",
      " 15 24 16 18 24 20 25 17 22 17 15 21 26 18 21 23 19 26 17 21 22 16 12 24\n",
      " 27 20 26 19 16 12 18 21 17 16 23 25 22 24 19 17 21 20 16 21 14 17 19 28\n",
      " 18 14 18 17 27 16 20 19 15 22 25 16 24 23 22 20 17 24 17 10 16 20 23 24\n",
      " 26 16 19 18 25 22 18 22 25 19 18 18 13 16 17 19 22 17 20 20 16 17 20 22\n",
      " 18 19 27 25 17 22 23 24 25 20 20 24 21 18 20 20 24 18 23 25 19 16 18 22\n",
      " 21 19 33 18 28 26 19 17 23 21 29 15 12 24 26 24 24 16 16 22 23 18 21 21\n",
      " 19 19 22 21 21 26 18 18 19 21 14 23 21 25 20 17 19 24 21 19 16 21 10 24\n",
      " 25 32 25 20 16 14 22 18 12 17 16 23 19 13 17 17 15 23 22 30 17 15 17 21\n",
      " 25 19 18 16 15 11 30 22 22 19 18 28 18 20 17 26 21 22 21 24 23 25 27 23\n",
      " 20 26 19 20 21 22 18 24 21 15 16 17 20 13 23 24 16 16 25 23 29 15 26 29\n",
      " 18 20 23 17 25 13 14 24 26 15 19 19 24 26 26 17 24 22 23 30 19 17 23 21\n",
      " 25 26 24 29 17 13 27 15 23 23 17 21 21 22 16 21 21 22 18 20 18 13 23 25\n",
      " 28 22 16 17 20 27 23 23 23 14 26 16 24 19 20 17 26 17 18 16 20 14 18 17\n",
      " 16 16 23 26 19 15 16 23 15 20 19 18 16 23 18 24 25 16 18 17 23 15 22 23\n",
      " 23 15 19  7 29 20 13 18 25 17 21 25 19 25 28 24 14 19 26 19 17 22 17 15\n",
      " 19 16 19 22 17 22 19 25 21 22 21 24 17 17 17 26 21 22 17 23 23 16 23 21\n",
      " 17 17 18 19 22 28 19 22 21 14 19 24 19 20 22 23 22 17 21 24 18 26 17 17\n",
      " 17 19 24 18 13 18 25 20 24 24 17 25 27 20 23 23 13 20 13 19 24 23 20 23\n",
      " 17 19 19 20 19 19 21 22 15 23 29 21 17 22 20 23 22 17 28 19 21 20 18 23\n",
      " 23 28 21 19 14 19 22 19 27 16 19 21 16 18 14 18 20 15 18 29 17 24 28 17\n",
      " 13 21 11 24 21 20 19 20 18 22 19 23 13 20 19 21 16 18 21 18 21 18 24 25\n",
      " 18 26 17 26 18 18 12 18 22 25 22 23 21 23 12 17 24 23 15 18 25 16 21 21\n",
      " 21 24 27 18 24 25 23 20 19 21 26 21 13 18 15 20 13 21 24 21 18 16 23 27\n",
      " 22 19 13 21 17 15 20 23 18 13 20 21 14 18 18 21 21 22 18 15 12 21 18 20\n",
      " 16 22 19 27 28 14 20 25 17 21 19 18 17 18 19 24 12 16 29 23 13 21 20 29\n",
      " 17 21 21 22 20 22 22 15 18 11 12 22 20 21 23 29 17 19 17 17 25 20 21 17\n",
      " 21 19 23 19 21 23 19 15 21 18 21 23 16 18 19 19 30 15 20 20 25 16 12 16\n",
      " 19 24 19 22 27 24 18 22 18 22 20 21 26 22 21 19 18 19 18 22 16 23 21 19\n",
      " 21 20 19 26 14 19 27 17 21 23 22 21 21 20 22 21 18 25 13 15 17 19 18 35\n",
      " 21 18 25 20 12 16 16 24 13 14 24 20 13 27 26 21 21 14 23 24 23 14 19 25\n",
      " 10 20 21 23 17 23 24 24 17 17 17 17 14 19 23 14 18 12 21 25 23 16 23 29\n",
      " 24  8 25 17 21 19 19 18 19 16 17 19 27 22 18 21 16 29 28 23 18 25 23 18\n",
      " 18 13 27 23 21 22 20 29 16 19 19 18 14 19 18 23 17 19 18 27 26 25 17 20\n",
      " 22 17 32 20 17 16 20 22 12 20 14 20 17 24 23 25 20 20 12 21 23 15 23 20\n",
      " 13 18 25 20 21 17 13 20 17 17 18 10 20 22 25 20]\n"
     ]
    }
   ],
   "source": [
    "#https://docs.scipy.org/doc/scipy/reference/generated/scipy.stats.binom.html\n",
    "dataBinom = stats.binom.rvs(size=1000, n=100, p=0.2)\n",
    "print(dataBinom)"
   ]
  },
  {
   "cell_type": "code",
   "execution_count": 43,
   "id": "f97642bb",
   "metadata": {},
   "outputs": [
    {
     "data": {
      "text/plain": [
       "<AxesSubplot:>"
      ]
     },
     "execution_count": 43,
     "metadata": {},
     "output_type": "execute_result"
    },
    {
     "data": {
      "image/png": "[encoded data removed]",
      "text/plain": [
       "<Figure size 432x288 with 1 Axes>"
      ]
     },
     "metadata": {
      "needs_background": "light"
     },
     "output_type": "display_data"
    }
   ],
   "source": [
    "sns.distplot(dataBinom, bins=50, kde=False)"
   ]
  },
  {
   "cell_type": "code",
   "execution_count": 45,
   "id": "1324ee7b",
   "metadata": {},
   "outputs": [
    {
     "name": "stdout",
     "output_type": "stream",
     "text": [
      "[[2 1 1 0 1 1]\n",
      " [0 1 2 1 0 2]\n",
      " [0 1 0 0 3 2]\n",
      " [0 2 0 1 0 3]\n",
      " [1 1 1 2 1 0]\n",
      " [0 1 3 0 0 2]\n",
      " [1 1 1 2 0 1]\n",
      " [0 2 1 1 1 1]\n",
      " [1 0 2 1 2 0]\n",
      " [1 2 1 0 1 1]]\n"
     ]
    }
   ],
   "source": [
    "#https://numpy.org/doc/stable/reference/random/generated/numpy.random.multinomial.html\n",
    "p = 1/6\n",
    "dataMultiNomial = np.random.multinomial(n=6, pvals=[p, p, p, p, p, p], size=10)\n",
    "print(dataMultiNomial)"
   ]
  },
  {
   "cell_type": "code",
   "execution_count": 46,
   "id": "732d2f93",
   "metadata": {},
   "outputs": [
    {
     "name": "stdout",
     "output_type": "stream",
     "text": [
      "[[285 217 498]\n",
      " [313 208 479]\n",
      " [286 181 533]\n",
      " ...\n",
      " [310 201 489]\n",
      " [304 197 499]\n",
      " [278 218 504]]\n"
     ]
    }
   ],
   "source": [
    "icu = 0.3 #Three out of every ten people go ICU\n",
    "surgery = 0.2\n",
    "recoveryElse = 0.5\n",
    "dataMultiNomial = np.random.multinomial(n=1000, pvals=[icu, surgery, recoveryElse], size=365) \n",
    "#n = nb of patient, size = for 365 days of year\n",
    "print(dataMultiNomial)"
   ]
  },
  {
   "cell_type": "code",
   "execution_count": 48,
   "id": "fe6233f8",
   "metadata": {},
   "outputs": [
    {
     "name": "stdout",
     "output_type": "stream",
     "text": [
      "[ 7  7 10  9  5  7  7  4  9 10  5  2 12 14  7  6 10  9  7 12  6  9 10  2\n",
      "  9  7  6  5  8 10 11  9 11  8  9 10  8 12  6  7  2 13  6  8  5  5  8  6\n",
      "  7  7  4 12  8 10  6  4  4 15 13  5  6  6  8 11  8  5 10  8 10  8  6  3\n",
      "  6 10 10  6 10  4  7  6 11  5  5  9  9  7  7  7  6 10  4  4  8  8  5 10\n",
      "  8  9  6  6  5  6  7  4  5  8  5  7  8  8  6  6  5  7  5  3 13  8  6 11\n",
      "  4 10  4 11  6  7  3  4  4 11 10  6  4  8  9  9 11 10  9 10  5  7  9  7\n",
      " 15  9 12  9  7  5  8  6  4  8  4  7  7  8  3  9  4  4  3  6  5  8  7  6\n",
      "  5  6  9 11  9  6 13  7  7  7  6 10  3  5  7  3  6  5  7 13  4 10  3  3\n",
      " 11  9 11  4  9  7  8  7 10  7  7 11  3  4  6  5  6 10  5  3  4 11 11 10\n",
      " 14  1  4  7  9  9  9  1  6  5 11  9  5  8  7  6  8  8  5  6  7  7  4  9\n",
      "  6  9 10  5  7  5 11  9  6  8  5  7  8 11  8 10  3  5  6  8 12  7 11 10\n",
      "  3  5  2  6 10  7  4  7  9 10  8 11  5  5 10  5 10  5  4  6  3  7  7 12\n",
      "  9  9  7  5 12  9  4  9  7  7  6  7  7  7  9  7  6 10  3  6 18  2  8  6\n",
      "  7  6  6  9  9  3  4  5  7  5  6 10  5 13  6  7  7  6  3 10  8  9 10  4\n",
      "  7 10  7 11  8  8  6  6  5  5  8  8  7  4 14  6  7  8  5  7 11  6  8  7\n",
      "  5  3  7  7  5 11  9  6  5  3  6  7  7  5  9 12  7  6 10  8 10  2  8 10\n",
      "  6  9  2 11  6  9  6  9  5  7  5  2 13  3  4 12  6  4  6  6 10  4  5  6\n",
      "  7  7 12 11  2  7  9  6 12  6  4 10  5  6  2  8  5  9  8  8 12  5  2  6\n",
      "  7 12  8  5  8 10  9  7  5  7  3  7  9  4  8  8  7  2  8  7  5  6  5 13\n",
      "  7 10  8  5  7 11  6  5  6  6  6  5  8 10  6  4  6  8 11  6  4  5  6 10\n",
      "  6  8  5  6  3  8  5  6 10  6  6  7  9  4 10  5  7  4  5  9  6 10 10 10\n",
      "  8  9  6 10  5  5  5 10  3  8  8  6  9  5  6  4  5  9  8 11  6  5 14 10\n",
      "  7  7  8  5  9  6  9  6  5 13  7  8  9  5  3  9  8  5  5  8  6  7  9  9\n",
      "  5 13  6  4  2  4  5  5  9  5  9  3  5  2  8  7  9  8 10  9 10  9  6  5\n",
      "  3  6  4  4  6  5  8  6  4  7  5  7  4  5  9  7 15 10  6  5  6  3  5  9\n",
      "  4  8  9  6  6  5 11 13  9 10  8  4  9 10  6  5  9  9  9  4 11  8  9  7\n",
      "  7  7 12  2  7  8 10  8  5  5  6  9  4  8  9  8  9 10  5  8  6  2  7  5\n",
      "  8  6  4  4  6  9  7  6  6  9  8 12 14  7  8  3  6  7  7 11  1  9  5 10\n",
      "  5  8  7  8  9  7 10  3  8  9 11  5  5  7  8  9 11  1 10  7  6  2  4  6\n",
      " 12  5  9  5  4  6  6  9 10 10  7  6 12  3  7  6 12  7  8  3 12  5  7  9\n",
      "  6 10  9  9  8  5  1  8 11  9  8  4  5  7  7  4  6  7  4 13  8  5  0  8\n",
      "  3  6 11  6  4  7  5  4 11  7 11  8  8  7  5  7  6  7  6  7  5  8  7  8\n",
      " 11 12  7 10  4  7  7  7  8  7  4  9  7  3 16  4  7 10  8  7  5  9  8  8\n",
      "  7  8  6 12  8  2 13  5  7 11 11  3 12  6  6  7  6 10  1  7  8  7  2 11\n",
      "  3  6 10  5  4  8 10 11  6  6  4  8  8  8  5  9  7  4  4  6 13  3  4  6\n",
      " 10  3  8  7  9 10  7  5  6  8  9  6  7 10  6  5  3  7  4  8  6  5 13  5\n",
      "  5  9  9  8 10  2  7  7  3  5  5  8  8  5  8 10 12  6 11  7  1 10  6  8\n",
      " 10  8  7  8  6  6 12  7  6  7  6  4  9 10  9  8  4  5 10  9 11  8  8  5\n",
      "  9 14  5  8  7  9  4  8  5  6  9  2  4 10  4  6 10  4 10  6  8  6 10 10\n",
      "  8  8  7  7  9  8  6  7  6  6  9  8  8  9  9  4  5  6 10  5  9  7  5 11\n",
      "  5  5  8  8  5  6 10  6  5  3 12  5  7  7  8  8  6  5  7 13  7  8  7  6\n",
      "  3  7 17  9  6  4  7 11  7 10  6  8  4  5  5  6]\n"
     ]
    }
   ],
   "source": [
    "#https://numpy.org/doc/stable/reference/random/generated/numpy.random.poisson.html\n",
    "\n",
    "#Parameters:lam => float or array_like of floats ==> Expected number of events occurring in a fixed-time interval,\n",
    "# must be >= 0. A sequence must be broadcastable over the requested size.\n",
    "dataPoisson = np.random.poisson(lam=7, size=1000)\n",
    "print(dataPoisson)"
   ]
  },
  {
   "cell_type": "code",
   "execution_count": 49,
   "id": "c10458a1",
   "metadata": {},
   "outputs": [
    {
     "name": "stderr",
     "output_type": "stream",
     "text": [
      "/home/shahin/.local/lib/python3.8/site-packages/seaborn/distributions.py:2619: FutureWarning: `distplot` is a deprecated function and will be removed in a future version. Please adapt your code to use either `displot` (a figure-level function with similar flexibility) or `histplot` (an axes-level function for histograms).\n",
      "  warnings.warn(msg, FutureWarning)\n"
     ]
    },
    {
     "data": {
      "text/plain": [
       "<AxesSubplot:ylabel='Density'>"
      ]
     },
     "execution_count": 49,
     "metadata": {},
     "output_type": "execute_result"
    },
    {
     "data": {
      "image/png": "[encoded data removed]",
      "text/plain": [
       "<Figure size 432x288 with 1 Axes>"
      ]
     },
     "metadata": {
      "needs_background": "light"
     },
     "output_type": "display_data"
    }
   ],
   "source": [
    "sns.distplot(dataPoisson)"
   ]
  },
  {
   "cell_type": "code",
   "execution_count": 50,
   "id": "e43ef75d",
   "metadata": {},
   "outputs": [
    {
     "name": "stderr",
     "output_type": "stream",
     "text": [
      "/home/shahin/.local/lib/python3.8/site-packages/seaborn/distributions.py:2619: FutureWarning: `distplot` is a deprecated function and will be removed in a future version. Please adapt your code to use either `displot` (a figure-level function with similar flexibility) or `histplot` (an axes-level function for histograms).\n",
      "  warnings.warn(msg, FutureWarning)\n"
     ]
    },
    {
     "data": {
      "text/plain": [
       "<AxesSubplot:>"
      ]
     },
     "execution_count": 50,
     "metadata": {},
     "output_type": "execute_result"
    },
    {
     "data": {
      "image/png": "[encoded data removed]",
      "text/plain": [
       "<Figure size 432x288 with 1 Axes>"
      ]
     },
     "metadata": {
      "needs_background": "light"
     },
     "output_type": "display_data"
    }
   ],
   "source": [
    "sns.distplot(dataPoisson, kde=False)"
   ]
  },
  {
   "cell_type": "code",
   "execution_count": 3,
   "id": "b2748d71",
   "metadata": {},
   "outputs": [
    {
     "name": "stdout",
     "output_type": "stream",
     "text": [
      "[3.53642724e+00 8.77651673e+00 8.46047355e-01 3.51287363e+00\n",
      " 1.56581365e+00 4.14812830e-01 3.40403708e+00 2.62218726e+00\n",
      " 2.12816604e+00 1.25960127e-01 4.13575088e+00 1.05026194e-01\n",
      " 9.44887500e-01 1.68176080e-01 1.96011508e+00 2.12850633e+00\n",
      " 1.33556467e-01 2.62512539e+00 1.01719130e+00 7.39977864e-01\n",
      " 3.71504664e+00 1.44480613e+00 5.77558234e-01 1.99318835e+00\n",
      " 9.53206295e-01 4.92858719e-01 5.54888525e+00 1.15236833e+00\n",
      " 1.24585527e+00 1.62940618e+00 1.47880912e+00 1.49254372e-01\n",
      " 4.77035738e+00 8.90978346e-01 5.67892105e+00 1.74515110e+00\n",
      " 6.06752384e+00 1.33872769e+00 2.68599656e-01 1.31481493e+00\n",
      " 1.53846748e+00 1.77895545e+00 8.77130264e-01 1.60671326e+00\n",
      " 2.93913548e+00 7.80133085e+00 6.50507942e-01 1.89583173e+00\n",
      " 2.16051238e+00 3.37228887e+00 2.57109742e+00 8.74639444e-01\n",
      " 3.17966573e-02 7.92138914e-01 7.87716675e-01 1.49232771e-01\n",
      " 4.21276453e-01 1.31689811e-01 5.78402538e+00 2.10557365e+00\n",
      " 1.11076445e+00 1.12230389e+00 6.96359881e+00 3.59467780e-01\n",
      " 1.00611044e+00 1.18430357e+00 2.32085824e+00 3.83901348e+00\n",
      " 8.65876162e-01 1.52948215e+00 1.93017167e-01 2.79676795e+00\n",
      " 1.74801592e+00 6.30604074e-01 6.47492835e+00 2.09483421e+00\n",
      " 4.69035259e+00 2.06170943e+00 7.35106994e-01 1.04356141e+00\n",
      " 3.39992989e+00 1.77697972e+00 1.40363041e+00 1.80502685e+00\n",
      " 8.06681496e-01 4.06954884e-01 1.03340487e+00 2.49447941e+00\n",
      " 4.81871747e+00 1.69057302e+00 9.96784306e+00 4.69560638e+00\n",
      " 2.53167138e+00 3.19636797e+00 2.54467754e+00 2.82286806e+00\n",
      " 6.86834324e-01 2.63385735e-01 4.12737813e-01 1.75832773e+00\n",
      " 2.45439309e+00 5.48388050e+00 7.18916252e-01 4.73585046e+00\n",
      " 5.31095040e-01 1.94316301e+00 6.35324936e-01 9.33275232e-01\n",
      " 2.95440101e+00 1.37805869e-01 4.57900793e+00 1.23026786e+00\n",
      " 2.81923651e+00 1.67259871e-01 9.77366886e-02 1.90112612e+00\n",
      " 3.54914924e-01 1.05175859e-01 6.08405935e+00 9.54867317e-01\n",
      " 4.57027700e+00 8.14993931e-01 1.20097983e-01 4.07837170e+00\n",
      " 4.16017833e+00 4.97904519e-01 1.78836517e+00 1.27368467e+00\n",
      " 2.85689193e+00 3.50877205e+00 2.26503455e+00 6.73464668e-01\n",
      " 1.21059098e+00 6.52161364e-01 1.93643855e+00 4.67782087e+00\n",
      " 1.45793411e+00 2.20210253e+00 3.39987467e+00 3.29976777e+00\n",
      " 5.72675029e+00 2.42040742e+00 6.83699921e-02 6.97309916e-01\n",
      " 5.32844976e-01 9.25533708e-01 6.91652786e+00 7.50891091e-01\n",
      " 1.75440480e+00 2.77926158e-01 2.45873730e+00 2.29178739e+00\n",
      " 1.48440442e+00 1.42424581e+00 4.21920681e-01 4.64853874e-01\n",
      " 8.07992846e-02 3.42994463e+00 4.35432992e+00 5.53860715e-01\n",
      " 5.30558054e-01 3.31001287e+00 2.99251168e-01 2.84066669e-01\n",
      " 1.27043388e+00 1.55239767e+00 3.36092812e+00 2.90314437e+00\n",
      " 7.68171062e-01 8.12817800e-01 5.14250316e+00 3.36437465e+00\n",
      " 2.03537504e-02 3.97255484e+00 2.79846602e-01 8.10018808e-02\n",
      " 1.11180980e+00 6.20713829e+00 1.20146299e+00 2.47121435e+00\n",
      " 6.97862293e+00 2.52086886e+00 3.09053304e-01 2.69220802e-01\n",
      " 4.25090297e-01 1.45260292e+00 4.80447976e+00 1.21273161e+00\n",
      " 1.06527636e+00 1.44282265e+00 6.47390038e-01 2.59990315e+00\n",
      " 1.81235350e+00 5.90887268e-01 1.01556179e-01 3.58122898e+00\n",
      " 3.29112578e+00 3.93017901e+00 6.91641528e-01 1.02606898e+00\n",
      " 1.65108610e+00 4.61528654e+00 9.98396606e-02 2.94979354e+00\n",
      " 3.44447470e+00 2.38733271e+00 7.15753751e-01 1.06956832e+00\n",
      " 5.09271455e-01 5.13539270e-01 7.90716371e-03 7.36468080e-01\n",
      " 5.58972782e+00 2.74059418e+00 3.45757925e-01 3.03344011e-01\n",
      " 9.54758200e-01 2.15163677e+00 2.96506729e+00 1.60660453e+00\n",
      " 7.18756572e-01 2.59856064e+00 1.30066734e+00 1.61258195e-02\n",
      " 1.92542532e+00 6.85751647e-01 1.08597980e+00 1.50173093e-01\n",
      " 4.09654487e-01 5.45005051e+00 9.83683902e-01 1.99244525e+00\n",
      " 3.20935653e+00 4.84480417e-01 4.82427234e-01 4.71407384e-01\n",
      " 3.60439411e-01 9.76648885e-01 1.93066748e-01 7.98311006e-01\n",
      " 4.01416667e+00 1.69200667e-01 2.57002126e+00 1.21423493e+00\n",
      " 6.64740874e-02 1.37269967e+00 2.45304446e+00 1.08891566e-01\n",
      " 2.71278644e-01 4.75228162e-01 2.94015097e+00 1.89926717e+00\n",
      " 2.84873479e-01 1.37046192e+00 4.41868580e+00 1.50704916e+00\n",
      " 2.75243441e+00 4.02472327e+00 2.08319375e+00 2.79723632e+00\n",
      " 4.42741422e+00 3.45219222e-01 2.17564270e+00 1.50118848e+00\n",
      " 1.17564263e+01 3.49744887e+00 1.26865305e+00 1.34341397e+00\n",
      " 8.74645905e-01 1.32222246e-01 8.95242140e-01 1.39240145e+00\n",
      " 1.97631141e-01 5.06942434e-01 4.21729154e+00 2.24108814e+00\n",
      " 8.41624376e+00 5.75453710e+00 8.29639720e-01 4.38478764e+00\n",
      " 1.68687731e+00 1.24479222e+00 7.58520593e+00 1.09539626e+00\n",
      " 4.55309879e-01 2.70536442e+00 5.66204858e-01 5.79242605e-01\n",
      " 2.63379181e+00 4.02085723e-01 2.35345270e+00 2.08285348e+00\n",
      " 9.08127191e-01 5.82837675e+00 4.43906047e-01 3.47326185e+00\n",
      " 2.24151297e+00 2.17235651e+00 1.49955608e+00 2.05484374e+00\n",
      " 6.66472349e-01 2.11523833e+00 6.69537625e-01 1.17074855e+00\n",
      " 1.68004787e-01 3.16374538e-01 9.53888254e-01 9.88217446e-01\n",
      " 3.96900272e-01 1.13818133e+00 9.10581903e-01 2.47278675e-01\n",
      " 2.91909823e-01 2.45526345e+00 3.96018550e+00 4.86125352e+00\n",
      " 1.71848430e-01 9.85662932e-01 4.76269741e-01 2.49066284e-01\n",
      " 2.86783245e+00 6.82192097e-01 5.09200019e+00 2.33800579e-01\n",
      " 4.59761757e-01 5.76913094e-01 1.86994450e+00 6.85719128e+00\n",
      " 4.40951702e+00 2.51298551e+00 3.53342566e-01 9.47672743e-01\n",
      " 3.92895235e+00 3.75116117e+00 1.06309143e+00 2.67166925e+00\n",
      " 2.75367360e-01 3.93343539e-02 2.26726797e+00 1.52244700e-01\n",
      " 5.47447719e-02 3.60897172e-01 4.73558103e-02 1.67405272e+00\n",
      " 1.04257987e+00 1.16486813e+00 1.52803528e+00 4.37657368e+00\n",
      " 1.59069957e+00 1.15861108e+00 2.09974807e+00 1.42528295e+00\n",
      " 9.85450916e-01 1.95176446e+00 4.97272565e-02 5.84314843e-02\n",
      " 5.42256034e-01 1.02783636e+00 3.35170790e+00 1.25518997e+00\n",
      " 1.37465223e+00 2.88437457e+00 2.67663425e+00 6.29100798e-01\n",
      " 1.85877085e+00 3.05051451e+00 5.51340972e-01 3.00961959e+00\n",
      " 1.07995820e+00 1.30595262e+00 3.16588009e+00 3.30466668e-01\n",
      " 1.86628480e+00 4.27260259e-02 1.90787636e+00 2.08261133e+00\n",
      " 4.43568075e+00 1.24276772e+00 2.29325632e+00 1.40327837e+00\n",
      " 4.08387201e-01 6.07744162e-01 6.08012172e+00 5.54963121e+00\n",
      " 9.22539514e-01 2.43916924e+00 3.40296956e-01 7.99042404e-03\n",
      " 1.81842141e-01 1.19101012e+00 1.66715458e+00 3.03061893e-01\n",
      " 9.97604895e+00 2.70098623e+00 1.46538063e+00 3.28222428e+00\n",
      " 4.31882870e-01 2.54249667e+00 6.63846582e-01 8.38418903e-01\n",
      " 1.38956998e+00 4.52012886e+00 1.78622481e+00 8.20227841e-01\n",
      " 8.75535999e-01 7.18525438e-01 8.03386771e-01 3.32437639e+00\n",
      " 2.14321982e+00 2.91864998e+00 3.04392766e+00 1.39227854e+00\n",
      " 1.24176845e-01 4.61913411e+00 1.45785554e+00 1.33291554e+00\n",
      " 9.84697462e-01 1.66631386e+00 4.14450120e+00 1.16169768e+00\n",
      " 1.64247028e-01 3.61881894e-01 5.42356127e+00 3.79591518e+00\n",
      " 1.29811138e+00 2.86187521e+00 2.03444615e+00 2.35505669e+00\n",
      " 2.61509552e-01 6.96577955e-01 6.28478859e-01 1.30838449e-01\n",
      " 1.38372158e+00 1.10581678e+00 3.74108533e-02 5.81166678e-01\n",
      " 2.17203182e+00 1.44077508e+00 1.54882646e+00 1.97766856e+00\n",
      " 7.23606480e-01 3.29549167e-01 3.16120440e+00 1.06885757e+00\n",
      " 3.61578390e+00 1.14169777e+00 2.49424578e-01 1.26194728e-01\n",
      " 1.50044417e+00 1.81699183e-01 2.23920907e-01 3.94136491e-02\n",
      " 6.39466767e-02 6.31663588e+00 5.54953016e+00 3.09079546e+00\n",
      " 2.02108966e-02 2.18287756e-01 4.86554482e-01 8.85735459e-01\n",
      " 7.65436595e-01 1.81302709e+00 4.38116577e-01 5.15000618e+00\n",
      " 2.08704177e+00 3.50096636e+00 9.76934557e-01 3.10489533e-01\n",
      " 4.26348796e-01 1.24230874e+00 2.25911629e-01 8.77990878e-01\n",
      " 3.02506523e+00 1.35564903e+00 2.40080831e-01 1.34814417e+00\n",
      " 4.94242294e-01 9.10841763e-01 2.19646823e+00 2.47809560e+00\n",
      " 7.00006908e-02 4.08272792e+00 1.28554517e+00 1.97335366e+00\n",
      " 1.08285515e+00 3.52903387e-01 1.21313948e+00 8.20288814e-01\n",
      " 2.41426633e+00 4.94192497e+00 6.49343600e-01 1.17107460e+00\n",
      " 1.87512442e+00 1.36814730e+00 9.73808496e-02 1.32539550e-01\n",
      " 2.99998894e+00 6.51866300e-01 3.04038977e-01 2.04091893e+00\n",
      " 1.81685902e+00 2.04535724e-01 7.49646208e-01 6.34200137e-01\n",
      " 2.30696683e+00 8.33764393e-01 2.25330658e+00 8.28393393e-01\n",
      " 1.63394457e-01 4.82711897e+00 2.74592085e+00 5.32594359e-01\n",
      " 3.61618944e+00 2.75021959e+00 5.34890461e-01 3.01575910e+00\n",
      " 1.58688536e-01 2.89426453e+00 3.25298169e+00 3.19888277e+00\n",
      " 2.19548652e+00 8.87142789e-01 4.75685175e-01 2.45021028e+00\n",
      " 1.51118937e+00 5.47672924e-01 2.98641367e+00 3.08656232e+00\n",
      " 1.87087460e+00 2.68459261e-01 1.38274000e+00 8.35758017e-01\n",
      " 1.09889007e+00 3.85502767e+00 2.05696014e+00 1.61525270e+00\n",
      " 4.25255929e+00 3.75380289e+00 1.03619350e+00 2.10090671e+00\n",
      " 4.27119295e+00 1.11061115e+00 4.70608356e+00 1.23040967e+00\n",
      " 2.92044193e+00 1.99819730e-01 1.08782153e+00 1.85769782e-01\n",
      " 2.79480615e-01 1.17661826e+00 1.45386552e+00 1.67363722e+00\n",
      " 1.55677757e+00 3.96240192e+00 6.23570307e-01 1.60786633e+00\n",
      " 8.73660143e+00 3.00913326e+00 1.14416059e+00 2.78113650e+00\n",
      " 4.75014155e+00 4.81413631e-01 4.70634963e-02 1.42238868e+00\n",
      " 1.07095563e+00 5.71469354e+00 5.83513090e-01 2.80112216e-01\n",
      " 2.57633939e-01 3.73100348e-01 6.65512757e-01 3.38527640e+00\n",
      " 3.67840740e-01 9.17415050e-01 2.88512472e+00 4.47268233e-01\n",
      " 3.54517154e+00 3.91133918e-02 6.87294645e+00 5.03898023e-01\n",
      " 1.24954396e+00 5.92726120e-01 1.77933909e+00 1.53831381e+00\n",
      " 4.93558220e+00 3.73337212e+00 6.36685689e-01 8.44145124e-01\n",
      " 2.12722617e+00 4.84173312e-01 2.64507920e+00 1.98077998e+00\n",
      " 1.19692853e-02 2.88977981e-01 9.68107580e-02 2.86472791e+00\n",
      " 7.50184609e-01 2.23575649e-01 2.24003115e+00 3.96747176e+00\n",
      " 5.23502824e-01 7.79554275e-01 3.96986522e+00 2.42269698e+00\n",
      " 1.10795652e+00 2.52199165e-01 1.81791130e+00 1.33354509e+00\n",
      " 1.12121829e+00 5.96737874e+00 3.21754164e+00 5.28199944e+00\n",
      " 2.02231074e+00 4.42508488e-02 2.28222100e+00 3.00254545e-01\n",
      " 2.32594776e+00 1.02436004e+00 1.84244879e+00 5.05403608e-01\n",
      " 6.92160597e-01 2.21810941e+00 1.55621921e+00 7.71846112e-01\n",
      " 2.71218141e+00 2.70021119e+00 1.31652947e-01 1.50857142e+00\n",
      " 1.03265560e+00 2.25944357e+00 5.09729400e-01 1.36785743e+00\n",
      " 3.23348763e-01 1.56052034e+00 3.32433799e-01 9.86681002e-01\n",
      " 2.32962204e+00 1.80341806e+00 9.14084057e-02 5.91043424e-01\n",
      " 1.14167211e-01 1.23788346e+00 3.56127837e+00 1.92256291e+00\n",
      " 1.20518221e+00 5.52303829e-01 2.08421631e+00 1.33821573e+00\n",
      " 6.17005411e-01 4.65166947e+00 1.06404633e+00 2.32140711e+00\n",
      " 7.19266338e-01 1.98273399e+00 3.31576587e+00 6.00623035e+00\n",
      " 3.83642913e+00 4.59330541e+00 3.18380633e+00 3.04124887e-02\n",
      " 2.62414823e-02 5.98013951e+00 4.30721615e-01 6.48371102e-01\n",
      " 4.93425787e-01 4.45985048e-01 1.32656162e+00 3.99114465e+00\n",
      " 5.08802141e-01 1.80046909e+00 3.05860674e-02 3.52602989e-01\n",
      " 1.79229304e+00 4.37394089e+00 2.71137643e+00 4.04603513e-01\n",
      " 4.99228507e+00 4.95718121e-01 1.12828857e+00 2.44006254e+00\n",
      " 1.86312590e+00 2.91380731e-02 3.03730243e+00 2.94067218e+00\n",
      " 8.77081968e-01 1.77395387e-01 2.01622867e+00 2.21806215e+00\n",
      " 3.64342615e+00 6.84964049e+00 1.94422853e+00 2.75441664e+00\n",
      " 1.39849127e+00 4.40165370e+00 4.99367230e-01 3.20683904e-01\n",
      " 5.03081860e-01 7.53477021e-01 4.17893558e+00 9.67245778e-01\n",
      " 1.06208363e+00 1.77626837e+00 1.08161861e-01 1.25895413e+00\n",
      " 1.31565316e+00 3.95301699e+00 2.05961808e+00 1.72960080e+00\n",
      " 3.60387999e+00 1.06513655e+00 1.42373039e+00 1.43418617e+00\n",
      " 5.45378229e+00 1.17977748e+00 1.02250932e+00 2.23666655e+00\n",
      " 8.25030664e-01 4.41851373e+00 6.03672084e+00 2.65214070e+00\n",
      " 1.63493658e+00 2.72558557e+00 7.86913735e-01 7.51750916e-03\n",
      " 8.03167802e-01 4.43041651e+00 1.70088181e+00 1.35830100e+00\n",
      " 2.31835756e+00 1.53621181e-01 5.91881650e-01 4.02007447e+00\n",
      " 1.61967884e+00 1.61473535e+00 3.54120449e+00 7.66394147e-01\n",
      " 5.14662067e-01 4.21041443e+00 1.17757218e+00 5.25756097e+00\n",
      " 3.03982577e+00 2.67163664e+00 7.90138037e-01 3.55028080e+00\n",
      " 1.69896002e+00 1.15701401e-01 6.15608972e-01 6.38437720e+00\n",
      " 1.40534048e+00 7.04930918e-01 1.14980333e+00 1.08783323e+00\n",
      " 2.23737690e+00 3.54670451e+00 4.10777916e+00 9.56847183e-02\n",
      " 5.74760303e+00 3.63619870e-01 3.69560857e-01 4.76172056e+00\n",
      " 1.64701054e+00 8.93546106e-02 6.62972118e-01 5.30032069e-01\n",
      " 1.94434492e+00 1.85694416e+00 3.10534085e-01 2.79294419e+00\n",
      " 5.41843787e+00 6.98076146e-01 3.22400066e+00 4.04342843e-01\n",
      " 3.20316693e+00 2.99229529e+00 5.19792283e-01 2.58942544e+00\n",
      " 4.17339818e-01 2.98448440e-01 4.14656599e+00 1.02030693e+00\n",
      " 1.93509958e+00 1.12458084e+00 1.87727527e+00 1.01176496e+00\n",
      " 6.53725942e-01 3.85316283e+00 1.24403797e+00 3.04017822e+00\n",
      " 1.82520864e+00 9.66571883e-01 1.30152078e+00 2.34118635e+00\n",
      " 8.07490016e-01 7.45265274e-01 2.14755651e+00 4.77378525e+00\n",
      " 1.20893234e+00 2.41163556e+00 2.51038780e+00 1.41218342e+00\n",
      " 7.66571696e-01 8.40180432e-02 2.11477918e+00 1.49384402e+00\n",
      " 4.73926963e-01 1.58822539e+00 6.00858474e+00 4.16979637e+00\n",
      " 1.86137952e+00 1.36844220e+00 6.40174618e+00 2.67571007e-02\n",
      " 1.85588525e+00 8.00245508e-01 1.47075909e+00 7.57719650e+00\n",
      " 2.38986440e-01 4.70198895e+00 8.05956094e+00 4.15066995e+00\n",
      " 1.01402097e+00 4.92964719e-01 5.28077341e-01 1.43565708e+00\n",
      " 8.87669758e-01 1.73545085e+01 3.06872472e+00 1.18292522e+00\n",
      " 9.63421245e+00 2.42300997e+00 7.24621699e-01 5.23375200e-01\n",
      " 1.23039353e+00 1.32580915e+00 3.12912848e+00 6.87026082e-01\n",
      " 1.00324026e+01 3.31021110e-01 1.00275842e+00 3.71668455e+00\n",
      " 3.02736112e+00 8.87417340e-01 1.18933198e+00 1.27790049e-01\n",
      " 6.94410217e-01 1.39960665e+00 6.34181792e-01 1.37734385e+00\n",
      " 5.15286474e-01 1.91935142e+00 6.17170070e-01 1.78795677e+00\n",
      " 1.17024623e+00 2.18178219e+00 1.76171406e+00 1.67775001e+00\n",
      " 3.27923417e+00 2.11554464e+00 1.22793628e+00 2.37524337e+00\n",
      " 6.35092882e-01 1.48230136e+00 3.43107806e-02 1.72481834e+00\n",
      " 1.03469012e+00 4.42030461e+00 9.02623814e+00 2.20363093e-01\n",
      " 8.65279068e-01 2.78578502e-01 3.91371377e+00 1.44819436e+00\n",
      " 2.05620541e+00 3.05421318e+00 4.01192803e-01 3.72856982e+00\n",
      " 3.40222580e+00 9.90323167e-01 9.01578390e-01 1.06136910e+00\n",
      " 6.62048620e+00 3.67962802e+00 6.00845966e-01 3.18428210e-01\n",
      " 3.11649403e+00 1.23288896e+00 3.06024059e-01 1.77101012e+00\n",
      " 3.95592536e+00 5.45022717e-01 6.71655109e-01 2.48434696e+00\n",
      " 5.80658242e-01 6.36205784e-01 3.75496471e+00 5.97190759e-01\n",
      " 4.16815535e-01 4.78763527e-01 1.01233425e+00 2.30792718e+00\n",
      " 6.01870297e-02 6.13069723e-01 2.79736419e-01 4.53381536e+00\n",
      " 1.56857023e+00 2.82545379e+00 1.55189141e+00 1.81527244e+00\n",
      " 5.39467218e+00 8.83382652e-01 6.07135350e-02 4.63753488e+00\n",
      " 2.41340555e+00 5.37900270e+00 2.29693068e+00 2.86337882e+00\n",
      " 1.90878031e+00 7.38508617e+00 5.88215977e+00 2.85087203e-02\n",
      " 2.17707282e-01 3.69755930e-01 1.24258572e+00 3.81714330e+00\n",
      " 2.56927980e-01 6.24515583e-04 3.20812240e+00 1.00820189e-01\n",
      " 3.32902373e+00 2.14533092e+00 2.33609911e+00 2.38796201e+00\n",
      " 5.62300877e-01 4.13010095e+00 2.57153723e-01 1.14780376e+00\n",
      " 1.10474033e+00 1.94155468e+00 7.87633422e-01 1.30069959e+00\n",
      " 1.60206690e+00 1.88629128e+00 1.37596230e+00 1.65406350e+00\n",
      " 2.52341116e+00 8.08669105e-01 5.64609289e-03 5.14048530e-01\n",
      " 1.15709607e+01 2.51025074e+00 9.45038206e-01 1.19445813e+00\n",
      " 1.84439916e+00 6.18308693e-01 9.37034928e-01 2.56062929e-01\n",
      " 1.64849060e+00 4.34029867e+00 8.19608738e-01 1.87843146e+00\n",
      " 7.39381422e-01 8.40530941e+00 4.40730040e+00 6.91665457e-01\n",
      " 1.65324870e+00 2.05792326e+00 2.99013333e+00 3.77473783e+00\n",
      " 2.40651455e-02 6.61754530e-01 3.09330387e+00 2.69313972e-01\n",
      " 4.16677698e+00 5.17257189e-01 2.42708326e-01 3.54609711e-01\n",
      " 8.17915334e-02 3.76175832e-01 1.42409740e-01 2.08472713e+00\n",
      " 1.54927063e+00 3.82667092e-02 2.42775347e+00 1.43746205e+00\n",
      " 1.35938106e+00 3.54849100e+00 5.74962869e+00 7.28592398e-01\n",
      " 8.90939950e-01 2.84657575e-01 2.86608308e+00 1.59154818e+00\n",
      " 4.26881339e+00 8.40196588e+00 1.14863612e+01 4.26470104e+00\n",
      " 1.36300939e+00 4.48520878e+00 2.60149508e+00 7.02390203e-01]\n"
     ]
    }
   ],
   "source": [
    "#https://numpy.org/doc/stable/reference/random/generated/numpy.random.exponential.html\n",
    "dataExponential = np.random.exponential(scale=2, size=1000)\n",
    "print(dataExponential)"
   ]
  },
  {
   "cell_type": "code",
   "execution_count": 4,
   "id": "40843763",
   "metadata": {},
   "outputs": [
    {
     "name": "stderr",
     "output_type": "stream",
     "text": [
      "/home/shahin/.local/lib/python3.8/site-packages/seaborn/distributions.py:2619: FutureWarning: `distplot` is a deprecated function and will be removed in a future version. Please adapt your code to use either `displot` (a figure-level function with similar flexibility) or `histplot` (an axes-level function for histograms).\n",
      "  warnings.warn(msg, FutureWarning)\n"
     ]
    },
    {
     "data": {
      "text/plain": [
       "<AxesSubplot:ylabel='Density'>"
      ]
     },
     "execution_count": 4,
     "metadata": {},
     "output_type": "execute_result"
    },
    {
     "data": {
      "image/png": "[encoded data removed]",
      "text/plain": [
       "<Figure size 432x288 with 1 Axes>"
      ]
     },
     "metadata": {
      "needs_background": "light"
     },
     "output_type": "display_data"
    }
   ],
   "source": [
    "sns.distplot(dataExponential)"
   ]
  },
  {
   "cell_type": "code",
   "execution_count": null,
   "id": "9abba612",
   "metadata": {},
   "outputs": [],
   "source": []
  }
 ],
 "metadata": {
  "kernelspec": {
   "display_name": "Python 3 (ipykernel)",
   "language": "python",
   "name": "python3"
  },
  "language_info": {
   "codemirror_mode": {
    "name": "ipython",
    "version": 3
   },
   "file_extension": ".py",
   "mimetype": "text/x-python",
   "name": "python",
   "nbconvert_exporter": "python",
   "pygments_lexer": "ipython3",
   "version": "3.8.10"
  }
 },
 "nbformat": 4,
 "nbformat_minor": 5
}
